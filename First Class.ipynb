{
 "cells": [
  {
   "cell_type": "code",
   "execution_count": 1,
   "id": "9d04fbd7",
   "metadata": {},
   "outputs": [],
   "source": [
    "name1 = 'Omolewa'"
   ]
  },
  {
   "cell_type": "code",
   "execution_count": 2,
   "id": "3e7f3053",
   "metadata": {},
   "outputs": [
    {
     "data": {
      "text/plain": [
       "'Omolewa'"
      ]
     },
     "execution_count": 2,
     "metadata": {},
     "output_type": "execute_result"
    }
   ],
   "source": [
    "name1"
   ]
  },
  {
   "cell_type": "code",
   "execution_count": 3,
   "id": "12bb992e",
   "metadata": {},
   "outputs": [
    {
     "data": {
      "text/plain": [
       "str"
      ]
     },
     "execution_count": 3,
     "metadata": {},
     "output_type": "execute_result"
    }
   ],
   "source": [
    "type(name1)"
   ]
  },
  {
   "cell_type": "code",
   "execution_count": 4,
   "id": "7f994983",
   "metadata": {},
   "outputs": [
    {
     "data": {
      "text/plain": [
       "'OmolewaOmolewaOmolewaOmolewaOmolewaOmolewaOmolewaOmolewaOmolewaOmolewa'"
      ]
     },
     "execution_count": 4,
     "metadata": {},
     "output_type": "execute_result"
    }
   ],
   "source": [
    "name1 * 10"
   ]
  },
  {
   "cell_type": "code",
   "execution_count": 5,
   "id": "f8913aac",
   "metadata": {},
   "outputs": [
    {
     "data": {
      "text/plain": [
       "'OMOLEWA'"
      ]
     },
     "execution_count": 5,
     "metadata": {},
     "output_type": "execute_result"
    }
   ],
   "source": [
    "name1.upper()"
   ]
  },
  {
   "cell_type": "code",
   "execution_count": 6,
   "id": "223b7653",
   "metadata": {},
   "outputs": [
    {
     "data": {
      "text/plain": [
       "False"
      ]
     },
     "execution_count": 6,
     "metadata": {},
     "output_type": "execute_result"
    }
   ],
   "source": [
    "name1.isupper()"
   ]
  },
  {
   "cell_type": "code",
   "execution_count": 8,
   "id": "841c4196",
   "metadata": {},
   "outputs": [
    {
     "data": {
      "text/plain": [
       "'Bmolewa'"
      ]
     },
     "execution_count": 8,
     "metadata": {},
     "output_type": "execute_result"
    }
   ],
   "source": [
    "name1.replace('O', 'B')"
   ]
  },
  {
   "cell_type": "code",
   "execution_count": 9,
   "id": "2383598a",
   "metadata": {},
   "outputs": [],
   "source": [
    "sent = 'I am a boy'"
   ]
  },
  {
   "cell_type": "code",
   "execution_count": 10,
   "id": "099c1599",
   "metadata": {},
   "outputs": [
    {
     "data": {
      "text/plain": [
       "['I', 'am', 'a', 'boy']"
      ]
     },
     "execution_count": 10,
     "metadata": {},
     "output_type": "execute_result"
    }
   ],
   "source": [
    "sent.split()"
   ]
  },
  {
   "cell_type": "code",
   "execution_count": 80,
   "id": "3171e7c0",
   "metadata": {},
   "outputs": [
    {
     "data": {
      "text/plain": [
       "2"
      ]
     },
     "execution_count": 80,
     "metadata": {},
     "output_type": "execute_result"
    }
   ],
   "source": [
    "sent.count('a')"
   ]
  },
  {
   "cell_type": "code",
   "execution_count": 11,
   "id": "bdf577ca",
   "metadata": {},
   "outputs": [],
   "source": [
    "date = '10-11-2022'"
   ]
  },
  {
   "cell_type": "code",
   "execution_count": 12,
   "id": "e0166794",
   "metadata": {},
   "outputs": [
    {
     "data": {
      "text/plain": [
       "['10', '11', '2022']"
      ]
     },
     "execution_count": 12,
     "metadata": {},
     "output_type": "execute_result"
    }
   ],
   "source": [
    "date.split('-')"
   ]
  },
  {
   "cell_type": "code",
   "execution_count": 13,
   "id": "d4f9887b",
   "metadata": {},
   "outputs": [
    {
     "data": {
      "text/plain": [
       "['I ', 'm ', ' boy']"
      ]
     },
     "execution_count": 13,
     "metadata": {},
     "output_type": "execute_result"
    }
   ],
   "source": [
    "sent.split('a')"
   ]
  },
  {
   "cell_type": "code",
   "execution_count": 26,
   "id": "4004ea7d",
   "metadata": {},
   "outputs": [
    {
     "data": {
      "text/plain": [
       "10"
      ]
     },
     "execution_count": 26,
     "metadata": {},
     "output_type": "execute_result"
    }
   ],
   "source": [
    "len(sent)"
   ]
  },
  {
   "cell_type": "code",
   "execution_count": 14,
   "id": "845a2d42",
   "metadata": {},
   "outputs": [],
   "source": [
    "# Slicing"
   ]
  },
  {
   "cell_type": "code",
   "execution_count": 15,
   "id": "8bfd860a",
   "metadata": {},
   "outputs": [],
   "source": [
    "name = 'ADARAMOLA'"
   ]
  },
  {
   "cell_type": "code",
   "execution_count": 16,
   "id": "641c0447",
   "metadata": {},
   "outputs": [
    {
     "data": {
      "text/plain": [
       "'ARAMOLA'"
      ]
     },
     "execution_count": 16,
     "metadata": {},
     "output_type": "execute_result"
    }
   ],
   "source": [
    "name[2:9]"
   ]
  },
  {
   "cell_type": "code",
   "execution_count": 17,
   "id": "7f41caa1",
   "metadata": {},
   "outputs": [
    {
     "data": {
      "text/plain": [
       "'ADARAM'"
      ]
     },
     "execution_count": 17,
     "metadata": {},
     "output_type": "execute_result"
    }
   ],
   "source": [
    "name[:6]"
   ]
  },
  {
   "cell_type": "code",
   "execution_count": 18,
   "id": "a40f7fb3",
   "metadata": {},
   "outputs": [
    {
     "data": {
      "text/plain": [
       "'AMA'"
      ]
     },
     "execution_count": 18,
     "metadata": {},
     "output_type": "execute_result"
    }
   ],
   "source": [
    "name[2::3]"
   ]
  },
  {
   "cell_type": "code",
   "execution_count": 19,
   "id": "27c0e529",
   "metadata": {},
   "outputs": [
    {
     "data": {
      "text/plain": [
       "'ALOMARADA'"
      ]
     },
     "execution_count": 19,
     "metadata": {},
     "output_type": "execute_result"
    }
   ],
   "source": [
    "name[::-1]"
   ]
  },
  {
   "cell_type": "code",
   "execution_count": 20,
   "id": "07d66e22",
   "metadata": {},
   "outputs": [],
   "source": [
    "name = 'DAD'"
   ]
  },
  {
   "cell_type": "code",
   "execution_count": 25,
   "id": "d1a29111",
   "metadata": {},
   "outputs": [
    {
     "data": {
      "text/plain": [
       "3"
      ]
     },
     "execution_count": 25,
     "metadata": {},
     "output_type": "execute_result"
    }
   ],
   "source": [
    "len(name)"
   ]
  },
  {
   "cell_type": "code",
   "execution_count": 21,
   "id": "76f513a7",
   "metadata": {},
   "outputs": [
    {
     "data": {
      "text/plain": [
       "'DAD'"
      ]
     },
     "execution_count": 21,
     "metadata": {},
     "output_type": "execute_result"
    }
   ],
   "source": [
    "name[::-1]"
   ]
  },
  {
   "cell_type": "code",
   "execution_count": 22,
   "id": "fad682a2",
   "metadata": {},
   "outputs": [
    {
     "data": {
      "text/plain": [
       "True"
      ]
     },
     "execution_count": 22,
     "metadata": {},
     "output_type": "execute_result"
    }
   ],
   "source": [
    "name == name[::-1]"
   ]
  },
  {
   "cell_type": "code",
   "execution_count": 23,
   "id": "ca13e59d",
   "metadata": {},
   "outputs": [],
   "source": [
    "# list"
   ]
  },
  {
   "cell_type": "code",
   "execution_count": 24,
   "id": "5e95c4f6",
   "metadata": {},
   "outputs": [],
   "source": [
    "lis = []"
   ]
  },
  {
   "cell_type": "code",
   "execution_count": 27,
   "id": "c499f860",
   "metadata": {},
   "outputs": [
    {
     "data": {
      "text/plain": [
       "0"
      ]
     },
     "execution_count": 27,
     "metadata": {},
     "output_type": "execute_result"
    }
   ],
   "source": [
    "len(lis)"
   ]
  },
  {
   "cell_type": "code",
   "execution_count": 28,
   "id": "ab7b7853",
   "metadata": {},
   "outputs": [],
   "source": [
    "# popuplate"
   ]
  },
  {
   "cell_type": "code",
   "execution_count": 29,
   "id": "8946dfde",
   "metadata": {},
   "outputs": [],
   "source": [
    "lis.append('Lanre')"
   ]
  },
  {
   "cell_type": "code",
   "execution_count": 30,
   "id": "a6eddb13",
   "metadata": {},
   "outputs": [
    {
     "data": {
      "text/plain": [
       "['Lanre']"
      ]
     },
     "execution_count": 30,
     "metadata": {},
     "output_type": "execute_result"
    }
   ],
   "source": [
    "lis"
   ]
  },
  {
   "cell_type": "code",
   "execution_count": 31,
   "id": "46d1c35e",
   "metadata": {},
   "outputs": [],
   "source": [
    "lis.append('Jossy')"
   ]
  },
  {
   "cell_type": "code",
   "execution_count": 139,
   "id": "804bcb6d",
   "metadata": {},
   "outputs": [],
   "source": [
    "lis.append(2 * 3 * 4)"
   ]
  },
  {
   "cell_type": "code",
   "execution_count": 140,
   "id": "f33f84bc",
   "metadata": {},
   "outputs": [
    {
     "data": {
      "text/plain": [
       "['DAD', 24]"
      ]
     },
     "execution_count": 140,
     "metadata": {},
     "output_type": "execute_result"
    }
   ],
   "source": [
    "lis"
   ]
  },
  {
   "cell_type": "code",
   "execution_count": 32,
   "id": "0296e245",
   "metadata": {},
   "outputs": [
    {
     "data": {
      "text/plain": [
       "['Lanre', 'Jossy']"
      ]
     },
     "execution_count": 32,
     "metadata": {},
     "output_type": "execute_result"
    }
   ],
   "source": [
    "lis"
   ]
  },
  {
   "cell_type": "code",
   "execution_count": 33,
   "id": "b9dc6eef",
   "metadata": {},
   "outputs": [],
   "source": [
    "lis.append(name)"
   ]
  },
  {
   "cell_type": "code",
   "execution_count": 34,
   "id": "8058ff14",
   "metadata": {},
   "outputs": [
    {
     "data": {
      "text/plain": [
       "['Lanre', 'Jossy', 'DAD']"
      ]
     },
     "execution_count": 34,
     "metadata": {},
     "output_type": "execute_result"
    }
   ],
   "source": [
    "lis"
   ]
  },
  {
   "cell_type": "code",
   "execution_count": 35,
   "id": "52cc85ab",
   "metadata": {},
   "outputs": [
    {
     "data": {
      "text/plain": [
       "['Lanre', 'Jossy', 'DAD']"
      ]
     },
     "execution_count": 35,
     "metadata": {},
     "output_type": "execute_result"
    }
   ],
   "source": [
    "lis"
   ]
  },
  {
   "cell_type": "code",
   "execution_count": 36,
   "id": "9bb3e25c",
   "metadata": {},
   "outputs": [],
   "source": [
    "lis.reverse()"
   ]
  },
  {
   "cell_type": "code",
   "execution_count": 37,
   "id": "cdfcdda9",
   "metadata": {},
   "outputs": [
    {
     "data": {
      "text/plain": [
       "['DAD', 'Jossy', 'Lanre']"
      ]
     },
     "execution_count": 37,
     "metadata": {},
     "output_type": "execute_result"
    }
   ],
   "source": [
    "lis"
   ]
  },
  {
   "cell_type": "code",
   "execution_count": 38,
   "id": "d5d438ab",
   "metadata": {},
   "outputs": [
    {
     "data": {
      "text/plain": [
       "'Lanre'"
      ]
     },
     "execution_count": 38,
     "metadata": {},
     "output_type": "execute_result"
    }
   ],
   "source": [
    "lis.pop(2)"
   ]
  },
  {
   "cell_type": "code",
   "execution_count": 39,
   "id": "f2a5f9ec",
   "metadata": {},
   "outputs": [
    {
     "data": {
      "text/plain": [
       "['DAD', 'Jossy']"
      ]
     },
     "execution_count": 39,
     "metadata": {},
     "output_type": "execute_result"
    }
   ],
   "source": [
    "lis"
   ]
  },
  {
   "cell_type": "code",
   "execution_count": 40,
   "id": "65ef49be",
   "metadata": {},
   "outputs": [],
   "source": [
    "lis.remove('Jossy')"
   ]
  },
  {
   "cell_type": "code",
   "execution_count": 41,
   "id": "c27b2a3d",
   "metadata": {},
   "outputs": [
    {
     "data": {
      "text/plain": [
       "['DAD']"
      ]
     },
     "execution_count": 41,
     "metadata": {},
     "output_type": "execute_result"
    }
   ],
   "source": [
    "lis"
   ]
  },
  {
   "cell_type": "code",
   "execution_count": 42,
   "id": "4ef9282b",
   "metadata": {},
   "outputs": [
    {
     "ename": "ValueError",
     "evalue": "list.remove(x): x not in list",
     "output_type": "error",
     "traceback": [
      "\u001b[1;31m---------------------------------------------------------------------------\u001b[0m",
      "\u001b[1;31mValueError\u001b[0m                                Traceback (most recent call last)",
      "\u001b[1;32mC:\\Users\\OMOLEW~1\\AppData\\Local\\Temp/ipykernel_18332/489624070.py\u001b[0m in \u001b[0;36m<module>\u001b[1;34m\u001b[0m\n\u001b[1;32m----> 1\u001b[1;33m \u001b[0mlis\u001b[0m\u001b[1;33m.\u001b[0m\u001b[0mremove\u001b[0m\u001b[1;33m(\u001b[0m\u001b[1;34m'dad'\u001b[0m\u001b[1;33m)\u001b[0m\u001b[1;33m\u001b[0m\u001b[1;33m\u001b[0m\u001b[0m\n\u001b[0m",
      "\u001b[1;31mValueError\u001b[0m: list.remove(x): x not in list"
     ]
    }
   ],
   "source": [
    "lis.remove('dad')"
   ]
  },
  {
   "cell_type": "code",
   "execution_count": 43,
   "id": "d61cccae",
   "metadata": {},
   "outputs": [],
   "source": [
    "name = ['Omolewa', 'Bukola', 'Adaramola']"
   ]
  },
  {
   "cell_type": "code",
   "execution_count": 44,
   "id": "4040b0a3",
   "metadata": {},
   "outputs": [
    {
     "data": {
      "text/plain": [
       "'OmolewaBukolaAdaramola'"
      ]
     },
     "execution_count": 44,
     "metadata": {},
     "output_type": "execute_result"
    }
   ],
   "source": [
    "''.join(name)"
   ]
  },
  {
   "cell_type": "code",
   "execution_count": 45,
   "id": "6d1197a8",
   "metadata": {},
   "outputs": [
    {
     "data": {
      "text/plain": [
       "'Omolewa Bukola Adaramola'"
      ]
     },
     "execution_count": 45,
     "metadata": {},
     "output_type": "execute_result"
    }
   ],
   "source": [
    "' '.join(name)"
   ]
  },
  {
   "cell_type": "code",
   "execution_count": 46,
   "id": "bdd0ff8c",
   "metadata": {},
   "outputs": [
    {
     "data": {
      "text/plain": [
       "'Omolewa-Bukola-Adaramola'"
      ]
     },
     "execution_count": 46,
     "metadata": {},
     "output_type": "execute_result"
    }
   ],
   "source": [
    "'-'.join(name)"
   ]
  },
  {
   "cell_type": "code",
   "execution_count": 47,
   "id": "c6debb08",
   "metadata": {},
   "outputs": [
    {
     "data": {
      "text/plain": [
       "'Omolewa      Bukola      Adaramola'"
      ]
     },
     "execution_count": 47,
     "metadata": {},
     "output_type": "execute_result"
    }
   ],
   "source": [
    "'      '.join(name)"
   ]
  },
  {
   "cell_type": "code",
   "execution_count": 48,
   "id": "e76d6b7c",
   "metadata": {},
   "outputs": [
    {
     "data": {
      "text/plain": [
       "['Omolewa', 'Bukola', 'Adaramola']"
      ]
     },
     "execution_count": 48,
     "metadata": {},
     "output_type": "execute_result"
    }
   ],
   "source": [
    "name"
   ]
  },
  {
   "cell_type": "code",
   "execution_count": 49,
   "id": "bb801da9",
   "metadata": {},
   "outputs": [],
   "source": [
    "name.append('Jossy')"
   ]
  },
  {
   "cell_type": "code",
   "execution_count": 50,
   "id": "27434c23",
   "metadata": {},
   "outputs": [],
   "source": [
    "name.append('Lanre')"
   ]
  },
  {
   "cell_type": "code",
   "execution_count": 51,
   "id": "1d78d0ed",
   "metadata": {},
   "outputs": [],
   "source": [
    "name.append('Ray')"
   ]
  },
  {
   "cell_type": "code",
   "execution_count": 52,
   "id": "f7e50009",
   "metadata": {},
   "outputs": [],
   "source": [
    "name.append('George')"
   ]
  },
  {
   "cell_type": "code",
   "execution_count": null,
   "id": "938a1eac",
   "metadata": {},
   "outputs": [],
   "source": []
  },
  {
   "cell_type": "code",
   "execution_count": 53,
   "id": "839296bd",
   "metadata": {},
   "outputs": [
    {
     "data": {
      "text/plain": [
       "['Omolewa', 'Bukola', 'Adaramola', 'Jossy', 'Lanre', 'Ray', 'George']"
      ]
     },
     "execution_count": 53,
     "metadata": {},
     "output_type": "execute_result"
    }
   ],
   "source": [
    "name"
   ]
  },
  {
   "cell_type": "code",
   "execution_count": 54,
   "id": "9e90e38f",
   "metadata": {},
   "outputs": [
    {
     "data": {
      "text/plain": [
       "'Omolewa'"
      ]
     },
     "execution_count": 54,
     "metadata": {},
     "output_type": "execute_result"
    }
   ],
   "source": [
    "name[0]"
   ]
  },
  {
   "cell_type": "code",
   "execution_count": 55,
   "id": "3362e5d3",
   "metadata": {},
   "outputs": [
    {
     "data": {
      "text/plain": [
       "'George'"
      ]
     },
     "execution_count": 55,
     "metadata": {},
     "output_type": "execute_result"
    }
   ],
   "source": [
    "name[-1]"
   ]
  },
  {
   "cell_type": "code",
   "execution_count": 56,
   "id": "8672301e",
   "metadata": {},
   "outputs": [
    {
     "data": {
      "text/plain": [
       "['Adaramola', 'Jossy', 'Lanre']"
      ]
     },
     "execution_count": 56,
     "metadata": {},
     "output_type": "execute_result"
    }
   ],
   "source": [
    "name[2:5]"
   ]
  },
  {
   "cell_type": "code",
   "execution_count": 57,
   "id": "1b809b1d",
   "metadata": {},
   "outputs": [],
   "source": [
    "name.insert(2, 'Ogechi')"
   ]
  },
  {
   "cell_type": "code",
   "execution_count": 58,
   "id": "34fea426",
   "metadata": {},
   "outputs": [
    {
     "data": {
      "text/plain": [
       "['Omolewa', 'Bukola', 'Ogechi', 'Adaramola', 'Jossy', 'Lanre', 'Ray', 'George']"
      ]
     },
     "execution_count": 58,
     "metadata": {},
     "output_type": "execute_result"
    }
   ],
   "source": [
    "name"
   ]
  },
  {
   "cell_type": "code",
   "execution_count": 59,
   "id": "91f77e35",
   "metadata": {},
   "outputs": [
    {
     "data": {
      "text/plain": [
       "1"
      ]
     },
     "execution_count": 59,
     "metadata": {},
     "output_type": "execute_result"
    }
   ],
   "source": [
    "name.count('Bukola')"
   ]
  },
  {
   "cell_type": "code",
   "execution_count": 60,
   "id": "b1963ad6",
   "metadata": {},
   "outputs": [],
   "source": [
    "# append, insert, extend"
   ]
  },
  {
   "cell_type": "code",
   "execution_count": 61,
   "id": "8a977326",
   "metadata": {},
   "outputs": [],
   "source": [
    "moreName = ['Felix', 'Jaiye']"
   ]
  },
  {
   "cell_type": "code",
   "execution_count": 62,
   "id": "1c5eb6d4",
   "metadata": {},
   "outputs": [
    {
     "data": {
      "text/plain": [
       "['Omolewa', 'Bukola', 'Ogechi', 'Adaramola', 'Jossy', 'Lanre', 'Ray', 'George']"
      ]
     },
     "execution_count": 62,
     "metadata": {},
     "output_type": "execute_result"
    }
   ],
   "source": [
    "name"
   ]
  },
  {
   "cell_type": "code",
   "execution_count": 63,
   "id": "d004bfd8",
   "metadata": {},
   "outputs": [
    {
     "data": {
      "text/plain": [
       "['Felix', 'Jaiye']"
      ]
     },
     "execution_count": 63,
     "metadata": {},
     "output_type": "execute_result"
    }
   ],
   "source": [
    "moreName"
   ]
  },
  {
   "cell_type": "code",
   "execution_count": 64,
   "id": "318792c9",
   "metadata": {},
   "outputs": [],
   "source": [
    "name.append(moreName)"
   ]
  },
  {
   "cell_type": "code",
   "execution_count": 65,
   "id": "4fe6f2a1",
   "metadata": {},
   "outputs": [
    {
     "data": {
      "text/plain": [
       "['Omolewa',\n",
       " 'Bukola',\n",
       " 'Ogechi',\n",
       " 'Adaramola',\n",
       " 'Jossy',\n",
       " 'Lanre',\n",
       " 'Ray',\n",
       " 'George',\n",
       " ['Felix', 'Jaiye']]"
      ]
     },
     "execution_count": 65,
     "metadata": {},
     "output_type": "execute_result"
    }
   ],
   "source": [
    "name"
   ]
  },
  {
   "cell_type": "code",
   "execution_count": 66,
   "id": "74d5be5b",
   "metadata": {},
   "outputs": [],
   "source": [
    "name.remove('Omolewa')"
   ]
  },
  {
   "cell_type": "code",
   "execution_count": 68,
   "id": "9ba16b4c",
   "metadata": {},
   "outputs": [],
   "source": [
    "name.remove('Bukola')"
   ]
  },
  {
   "cell_type": "code",
   "execution_count": 69,
   "id": "be148f16",
   "metadata": {},
   "outputs": [
    {
     "data": {
      "text/plain": [
       "['Ogechi', 'Adaramola', 'Jossy', 'Lanre', 'Ray', 'George', ['Felix', 'Jaiye']]"
      ]
     },
     "execution_count": 69,
     "metadata": {},
     "output_type": "execute_result"
    }
   ],
   "source": [
    "name"
   ]
  },
  {
   "cell_type": "code",
   "execution_count": 70,
   "id": "ca8d21af",
   "metadata": {},
   "outputs": [
    {
     "data": {
      "text/plain": [
       "['Felix', 'Jaiye']"
      ]
     },
     "execution_count": 70,
     "metadata": {},
     "output_type": "execute_result"
    }
   ],
   "source": [
    "name.pop(-1)"
   ]
  },
  {
   "cell_type": "code",
   "execution_count": 71,
   "id": "05afc0b1",
   "metadata": {},
   "outputs": [
    {
     "data": {
      "text/plain": [
       "['Ogechi', 'Adaramola', 'Jossy', 'Lanre', 'Ray', 'George']"
      ]
     },
     "execution_count": 71,
     "metadata": {},
     "output_type": "execute_result"
    }
   ],
   "source": [
    "name"
   ]
  },
  {
   "cell_type": "code",
   "execution_count": 72,
   "id": "70776401",
   "metadata": {},
   "outputs": [
    {
     "data": {
      "text/plain": [
       "['Felix', 'Jaiye']"
      ]
     },
     "execution_count": 72,
     "metadata": {},
     "output_type": "execute_result"
    }
   ],
   "source": [
    "moreName"
   ]
  },
  {
   "cell_type": "code",
   "execution_count": 73,
   "id": "4c3be29d",
   "metadata": {},
   "outputs": [],
   "source": [
    "name.append(moreName)"
   ]
  },
  {
   "cell_type": "code",
   "execution_count": 74,
   "id": "08f0b0d9",
   "metadata": {},
   "outputs": [
    {
     "data": {
      "text/plain": [
       "['Ogechi', 'Adaramola', 'Jossy', 'Lanre', 'Ray', 'George', ['Felix', 'Jaiye']]"
      ]
     },
     "execution_count": 74,
     "metadata": {},
     "output_type": "execute_result"
    }
   ],
   "source": [
    "name"
   ]
  },
  {
   "cell_type": "code",
   "execution_count": 75,
   "id": "24ff13c5",
   "metadata": {},
   "outputs": [
    {
     "data": {
      "text/plain": [
       "['Felix', 'Jaiye']"
      ]
     },
     "execution_count": 75,
     "metadata": {},
     "output_type": "execute_result"
    }
   ],
   "source": [
    "name.pop(6)"
   ]
  },
  {
   "cell_type": "code",
   "execution_count": 76,
   "id": "f70d52e2",
   "metadata": {},
   "outputs": [
    {
     "data": {
      "text/plain": [
       "['Ogechi', 'Adaramola', 'Jossy', 'Lanre', 'Ray', 'George']"
      ]
     },
     "execution_count": 76,
     "metadata": {},
     "output_type": "execute_result"
    }
   ],
   "source": [
    "name"
   ]
  },
  {
   "cell_type": "code",
   "execution_count": 77,
   "id": "affa030e",
   "metadata": {},
   "outputs": [],
   "source": [
    "name.extend(moreName)"
   ]
  },
  {
   "cell_type": "code",
   "execution_count": 78,
   "id": "b11de8d2",
   "metadata": {},
   "outputs": [
    {
     "data": {
      "text/plain": [
       "['Ogechi', 'Adaramola', 'Jossy', 'Lanre', 'Ray', 'George', 'Felix', 'Jaiye']"
      ]
     },
     "execution_count": 78,
     "metadata": {},
     "output_type": "execute_result"
    }
   ],
   "source": [
    "name"
   ]
  },
  {
   "cell_type": "code",
   "execution_count": 81,
   "id": "77e75af0",
   "metadata": {},
   "outputs": [],
   "source": [
    "# tuple"
   ]
  },
  {
   "cell_type": "code",
   "execution_count": 88,
   "id": "ca526530",
   "metadata": {},
   "outputs": [],
   "source": [
    "name = ('Omolewa', 'Lanre')"
   ]
  },
  {
   "cell_type": "code",
   "execution_count": 89,
   "id": "8fed77e5",
   "metadata": {},
   "outputs": [
    {
     "data": {
      "text/plain": [
       "['Omolewa', 'Lanre']"
      ]
     },
     "execution_count": 89,
     "metadata": {},
     "output_type": "execute_result"
    }
   ],
   "source": [
    "list(name)"
   ]
  },
  {
   "cell_type": "code",
   "execution_count": 90,
   "id": "1a0405b1",
   "metadata": {},
   "outputs": [
    {
     "data": {
      "text/plain": [
       "('Omolewa', 'Lanre')"
      ]
     },
     "execution_count": 90,
     "metadata": {},
     "output_type": "execute_result"
    }
   ],
   "source": [
    "name"
   ]
  },
  {
   "cell_type": "code",
   "execution_count": 91,
   "id": "9a7466f7",
   "metadata": {},
   "outputs": [
    {
     "ename": "AttributeError",
     "evalue": "'tuple' object has no attribute 'remove'",
     "output_type": "error",
     "traceback": [
      "\u001b[1;31m---------------------------------------------------------------------------\u001b[0m",
      "\u001b[1;31mAttributeError\u001b[0m                            Traceback (most recent call last)",
      "\u001b[1;32mC:\\Users\\OMOLEW~1\\AppData\\Local\\Temp/ipykernel_18332/2180205719.py\u001b[0m in \u001b[0;36m<module>\u001b[1;34m\u001b[0m\n\u001b[1;32m----> 1\u001b[1;33m \u001b[0mname\u001b[0m\u001b[1;33m.\u001b[0m\u001b[0mremove\u001b[0m\u001b[1;33m(\u001b[0m\u001b[1;33m)\u001b[0m\u001b[1;33m\u001b[0m\u001b[1;33m\u001b[0m\u001b[0m\n\u001b[0m",
      "\u001b[1;31mAttributeError\u001b[0m: 'tuple' object has no attribute 'remove'"
     ]
    }
   ],
   "source": [
    "name.remove()"
   ]
  },
  {
   "cell_type": "code",
   "execution_count": 96,
   "id": "3af66167",
   "metadata": {},
   "outputs": [],
   "source": [
    "lis2 = list(name)"
   ]
  },
  {
   "cell_type": "code",
   "execution_count": 98,
   "id": "8f62d805",
   "metadata": {},
   "outputs": [],
   "source": [
    "lis2.remove('Lanre')"
   ]
  },
  {
   "cell_type": "code",
   "execution_count": 99,
   "id": "1295fe21",
   "metadata": {},
   "outputs": [
    {
     "data": {
      "text/plain": [
       "['Omolewa']"
      ]
     },
     "execution_count": 99,
     "metadata": {},
     "output_type": "execute_result"
    }
   ],
   "source": [
    "lis2"
   ]
  },
  {
   "cell_type": "code",
   "execution_count": 100,
   "id": "0f980394",
   "metadata": {},
   "outputs": [],
   "source": [
    "name = tuple(lis2)"
   ]
  },
  {
   "cell_type": "code",
   "execution_count": 101,
   "id": "33288237",
   "metadata": {},
   "outputs": [
    {
     "data": {
      "text/plain": [
       "('Omolewa',)"
      ]
     },
     "execution_count": 101,
     "metadata": {},
     "output_type": "execute_result"
    }
   ],
   "source": [
    "name"
   ]
  },
  {
   "cell_type": "code",
   "execution_count": 102,
   "id": "4d7bcdd9",
   "metadata": {},
   "outputs": [],
   "source": [
    "# Dictionary"
   ]
  },
  {
   "cell_type": "code",
   "execution_count": 103,
   "id": "919a4828",
   "metadata": {},
   "outputs": [],
   "source": [
    "dic = {}"
   ]
  },
  {
   "cell_type": "code",
   "execution_count": 104,
   "id": "f20da8ed",
   "metadata": {},
   "outputs": [
    {
     "data": {
      "text/plain": [
       "dict"
      ]
     },
     "execution_count": 104,
     "metadata": {},
     "output_type": "execute_result"
    }
   ],
   "source": [
    "type(dic)"
   ]
  },
  {
   "cell_type": "code",
   "execution_count": 105,
   "id": "546dcc0d",
   "metadata": {},
   "outputs": [
    {
     "data": {
      "text/plain": [
       "{}"
      ]
     },
     "execution_count": 105,
     "metadata": {},
     "output_type": "execute_result"
    }
   ],
   "source": [
    "dic"
   ]
  },
  {
   "cell_type": "code",
   "execution_count": 106,
   "id": "26dfc9da",
   "metadata": {},
   "outputs": [],
   "source": [
    "dic['Nigeria'] = 'Abuja'"
   ]
  },
  {
   "cell_type": "code",
   "execution_count": 107,
   "id": "b2c26e07",
   "metadata": {},
   "outputs": [
    {
     "data": {
      "text/plain": [
       "{'Nigeria': 'Abuja'}"
      ]
     },
     "execution_count": 107,
     "metadata": {},
     "output_type": "execute_result"
    }
   ],
   "source": [
    "dic"
   ]
  },
  {
   "cell_type": "code",
   "execution_count": 108,
   "id": "f09869f1",
   "metadata": {},
   "outputs": [],
   "source": [
    "dic['USA'] = 'DC'"
   ]
  },
  {
   "cell_type": "code",
   "execution_count": 109,
   "id": "cd063b33",
   "metadata": {},
   "outputs": [
    {
     "data": {
      "text/plain": [
       "{'Nigeria': 'Abuja', 'USA': 'DC'}"
      ]
     },
     "execution_count": 109,
     "metadata": {},
     "output_type": "execute_result"
    }
   ],
   "source": [
    "dic"
   ]
  },
  {
   "cell_type": "code",
   "execution_count": 110,
   "id": "e59ac8e8",
   "metadata": {},
   "outputs": [],
   "source": [
    "dic['Cameroun'] = 'Yaounde'"
   ]
  },
  {
   "cell_type": "code",
   "execution_count": 111,
   "id": "8d519b59",
   "metadata": {},
   "outputs": [
    {
     "data": {
      "text/plain": [
       "{'Nigeria': 'Abuja', 'USA': 'DC', 'Cameroun': 'Yaounde'}"
      ]
     },
     "execution_count": 111,
     "metadata": {},
     "output_type": "execute_result"
    }
   ],
   "source": [
    "dic"
   ]
  },
  {
   "cell_type": "code",
   "execution_count": 112,
   "id": "485de89f",
   "metadata": {},
   "outputs": [
    {
     "data": {
      "text/plain": [
       "{'Nigeria': 'Abuja', 'USA': 'DC', 'Cameroun': 'Yaounde'}"
      ]
     },
     "execution_count": 112,
     "metadata": {},
     "output_type": "execute_result"
    }
   ],
   "source": [
    "dic"
   ]
  },
  {
   "cell_type": "code",
   "execution_count": 113,
   "id": "1b0474d2",
   "metadata": {},
   "outputs": [
    {
     "data": {
      "text/plain": [
       "dict_keys(['Nigeria', 'USA', 'Cameroun'])"
      ]
     },
     "execution_count": 113,
     "metadata": {},
     "output_type": "execute_result"
    }
   ],
   "source": [
    "dic.keys()"
   ]
  },
  {
   "cell_type": "code",
   "execution_count": 114,
   "id": "9e48ec64",
   "metadata": {},
   "outputs": [
    {
     "data": {
      "text/plain": [
       "dict_values(['Abuja', 'DC', 'Yaounde'])"
      ]
     },
     "execution_count": 114,
     "metadata": {},
     "output_type": "execute_result"
    }
   ],
   "source": [
    "dic.values()"
   ]
  },
  {
   "cell_type": "code",
   "execution_count": 115,
   "id": "656912b0",
   "metadata": {},
   "outputs": [
    {
     "data": {
      "text/plain": [
       "['Abuja', 'DC', 'Yaounde']"
      ]
     },
     "execution_count": 115,
     "metadata": {},
     "output_type": "execute_result"
    }
   ],
   "source": [
    "list(dic.values())"
   ]
  },
  {
   "cell_type": "code",
   "execution_count": 116,
   "id": "0a4a14e7",
   "metadata": {},
   "outputs": [
    {
     "data": {
      "text/plain": [
       "{'Nigeria': 'Abuja', 'USA': 'DC', 'Cameroun': 'Yaounde'}"
      ]
     },
     "execution_count": 116,
     "metadata": {},
     "output_type": "execute_result"
    }
   ],
   "source": [
    "dic"
   ]
  },
  {
   "cell_type": "code",
   "execution_count": 117,
   "id": "5dc8141b",
   "metadata": {},
   "outputs": [
    {
     "data": {
      "text/plain": [
       "'Abuja'"
      ]
     },
     "execution_count": 117,
     "metadata": {},
     "output_type": "execute_result"
    }
   ],
   "source": [
    "dic.get('Nigeria')"
   ]
  },
  {
   "cell_type": "code",
   "execution_count": 118,
   "id": "a56cecdf",
   "metadata": {},
   "outputs": [
    {
     "data": {
      "text/plain": [
       "'Yaounde'"
      ]
     },
     "execution_count": 118,
     "metadata": {},
     "output_type": "execute_result"
    }
   ],
   "source": [
    "dic.get('Cameroun')"
   ]
  },
  {
   "cell_type": "code",
   "execution_count": 119,
   "id": "3a18abf0",
   "metadata": {},
   "outputs": [],
   "source": [
    "dic.get('Ghana')"
   ]
  },
  {
   "cell_type": "code",
   "execution_count": 120,
   "id": "d63a6c47",
   "metadata": {},
   "outputs": [
    {
     "data": {
      "text/plain": [
       "'Yaounde'"
      ]
     },
     "execution_count": 120,
     "metadata": {},
     "output_type": "execute_result"
    }
   ],
   "source": [
    "dic.get('Cameroun')"
   ]
  },
  {
   "cell_type": "code",
   "execution_count": 121,
   "id": "0c45bbd4",
   "metadata": {},
   "outputs": [
    {
     "data": {
      "text/plain": [
       "'Yaounde'"
      ]
     },
     "execution_count": 121,
     "metadata": {},
     "output_type": "execute_result"
    }
   ],
   "source": [
    "dic['Cameroun']"
   ]
  },
  {
   "cell_type": "code",
   "execution_count": 122,
   "id": "29f582e4",
   "metadata": {},
   "outputs": [
    {
     "ename": "KeyError",
     "evalue": "'Ghana'",
     "output_type": "error",
     "traceback": [
      "\u001b[1;31m---------------------------------------------------------------------------\u001b[0m",
      "\u001b[1;31mKeyError\u001b[0m                                  Traceback (most recent call last)",
      "\u001b[1;32mC:\\Users\\OMOLEW~1\\AppData\\Local\\Temp/ipykernel_18332/2442933273.py\u001b[0m in \u001b[0;36m<module>\u001b[1;34m\u001b[0m\n\u001b[1;32m----> 1\u001b[1;33m \u001b[0mdic\u001b[0m\u001b[1;33m[\u001b[0m\u001b[1;34m'Ghana'\u001b[0m\u001b[1;33m]\u001b[0m\u001b[1;33m\u001b[0m\u001b[1;33m\u001b[0m\u001b[0m\n\u001b[0m",
      "\u001b[1;31mKeyError\u001b[0m: 'Ghana'"
     ]
    }
   ],
   "source": [
    "dic['Ghana']"
   ]
  },
  {
   "cell_type": "code",
   "execution_count": 123,
   "id": "ceb78392",
   "metadata": {},
   "outputs": [],
   "source": [
    "dic.get('Ghana')"
   ]
  },
  {
   "cell_type": "code",
   "execution_count": 124,
   "id": "de1babbe",
   "metadata": {},
   "outputs": [
    {
     "data": {
      "text/plain": [
       "'Nothig is found'"
      ]
     },
     "execution_count": 124,
     "metadata": {},
     "output_type": "execute_result"
    }
   ],
   "source": [
    "dic.get('Ghana', 'Nothig is found')"
   ]
  },
  {
   "cell_type": "code",
   "execution_count": 126,
   "id": "547593e6",
   "metadata": {},
   "outputs": [
    {
     "data": {
      "text/plain": [
       "'Abuja'"
      ]
     },
     "execution_count": 126,
     "metadata": {},
     "output_type": "execute_result"
    }
   ],
   "source": [
    "dic.get('Nigeria', 'Jump Jump')"
   ]
  },
  {
   "cell_type": "code",
   "execution_count": 127,
   "id": "490e2d13",
   "metadata": {},
   "outputs": [],
   "source": [
    "dic['Nigeria'] = 'Lagos'"
   ]
  },
  {
   "cell_type": "code",
   "execution_count": 128,
   "id": "80be9d3b",
   "metadata": {},
   "outputs": [
    {
     "data": {
      "text/plain": [
       "{'Nigeria': 'Lagos', 'USA': 'DC', 'Cameroun': 'Yaounde'}"
      ]
     },
     "execution_count": 128,
     "metadata": {},
     "output_type": "execute_result"
    }
   ],
   "source": [
    "dic"
   ]
  },
  {
   "cell_type": "code",
   "execution_count": 129,
   "id": "ab2bcee1",
   "metadata": {},
   "outputs": [],
   "source": [
    "dic['Ghana'] = 'Accra'"
   ]
  },
  {
   "cell_type": "code",
   "execution_count": 130,
   "id": "33f3d8cb",
   "metadata": {},
   "outputs": [
    {
     "data": {
      "text/plain": [
       "{'Nigeria': 'Lagos', 'USA': 'DC', 'Cameroun': 'Yaounde', 'Ghana': 'Accra'}"
      ]
     },
     "execution_count": 130,
     "metadata": {},
     "output_type": "execute_result"
    }
   ],
   "source": [
    "dic"
   ]
  },
  {
   "cell_type": "code",
   "execution_count": 131,
   "id": "a368f44c",
   "metadata": {},
   "outputs": [],
   "source": [
    "dic['Ghana'] = 'Damascus'"
   ]
  },
  {
   "cell_type": "code",
   "execution_count": 132,
   "id": "44087a2a",
   "metadata": {},
   "outputs": [
    {
     "data": {
      "text/plain": [
       "{'Nigeria': 'Lagos', 'USA': 'DC', 'Cameroun': 'Yaounde', 'Ghana': 'Damascus'}"
      ]
     },
     "execution_count": 132,
     "metadata": {},
     "output_type": "execute_result"
    }
   ],
   "source": [
    "dic"
   ]
  },
  {
   "cell_type": "code",
   "execution_count": 133,
   "id": "4d0fe8b0",
   "metadata": {},
   "outputs": [],
   "source": [
    "dic['nigeria'] = 'Ife'"
   ]
  },
  {
   "cell_type": "code",
   "execution_count": 134,
   "id": "d135210c",
   "metadata": {},
   "outputs": [
    {
     "data": {
      "text/plain": [
       "{'Nigeria': 'Lagos',\n",
       " 'USA': 'DC',\n",
       " 'Cameroun': 'Yaounde',\n",
       " 'Ghana': 'Damascus',\n",
       " 'nigeria': 'Ife'}"
      ]
     },
     "execution_count": 134,
     "metadata": {},
     "output_type": "execute_result"
    }
   ],
   "source": [
    "dic"
   ]
  },
  {
   "cell_type": "code",
   "execution_count": 135,
   "id": "12d1e5da",
   "metadata": {},
   "outputs": [],
   "source": [
    "fname = ['Omolewa', 'Jossy', 'Lanre']\n",
    "lname = ['Adaramola', 'Chu', 'Ogunyemi']"
   ]
  },
  {
   "cell_type": "code",
   "execution_count": 136,
   "id": "7a1af62e",
   "metadata": {},
   "outputs": [],
   "source": [
    "# {'Adaramola': 'Omolewa'}"
   ]
  },
  {
   "cell_type": "code",
   "execution_count": 137,
   "id": "d39808c2",
   "metadata": {},
   "outputs": [
    {
     "data": {
      "text/plain": [
       "<zip at 0x20b83e80780>"
      ]
     },
     "execution_count": 137,
     "metadata": {},
     "output_type": "execute_result"
    }
   ],
   "source": [
    "zip(lname, fname)"
   ]
  },
  {
   "cell_type": "code",
   "execution_count": 138,
   "id": "70a51a58",
   "metadata": {},
   "outputs": [
    {
     "data": {
      "text/plain": [
       "{'Adaramola': 'Omolewa', 'Chu': 'Jossy', 'Ogunyemi': 'Lanre'}"
      ]
     },
     "execution_count": 138,
     "metadata": {},
     "output_type": "execute_result"
    }
   ],
   "source": [
    "dict(zip(lname, fname))"
   ]
  },
  {
   "cell_type": "code",
   "execution_count": 141,
   "id": "1745e61f",
   "metadata": {},
   "outputs": [],
   "source": [
    "# for loop"
   ]
  },
  {
   "cell_type": "code",
   "execution_count": 142,
   "id": "aa6134a6",
   "metadata": {},
   "outputs": [],
   "source": [
    "num1 = [1, 2, 3, 4, 5, 6]\n",
    "num2 = [2, 4, 1, 10]"
   ]
  },
  {
   "cell_type": "code",
   "execution_count": 143,
   "id": "8a3f2741",
   "metadata": {},
   "outputs": [],
   "source": [
    "output = []\n",
    "for i in num1:\n",
    "    for j in num2:\n",
    "        output.append(i * j)"
   ]
  },
  {
   "cell_type": "code",
   "execution_count": 145,
   "id": "ae40f38c",
   "metadata": {},
   "outputs": [
    {
     "data": {
      "text/plain": [
       "[2,\n",
       " 4,\n",
       " 1,\n",
       " 10,\n",
       " 4,\n",
       " 8,\n",
       " 2,\n",
       " 20,\n",
       " 6,\n",
       " 12,\n",
       " 3,\n",
       " 30,\n",
       " 8,\n",
       " 16,\n",
       " 4,\n",
       " 40,\n",
       " 10,\n",
       " 20,\n",
       " 5,\n",
       " 50,\n",
       " 12,\n",
       " 24,\n",
       " 6,\n",
       " 60]"
      ]
     },
     "execution_count": 145,
     "metadata": {},
     "output_type": "execute_result"
    }
   ],
   "source": [
    "output"
   ]
  },
  {
   "cell_type": "code",
   "execution_count": 146,
   "id": "79618253",
   "metadata": {},
   "outputs": [],
   "source": [
    "num1 = [1, 2, 3, 4, 5, 6]"
   ]
  },
  {
   "cell_type": "code",
   "execution_count": 147,
   "id": "2b2c25e5",
   "metadata": {},
   "outputs": [],
   "source": [
    "# output = [1, 4, 9, 16, 25, 36]"
   ]
  },
  {
   "cell_type": "code",
   "execution_count": 150,
   "id": "0ab2de6b",
   "metadata": {},
   "outputs": [],
   "source": [
    "output = []\n",
    "for i in num1:\n",
    "    output.append(i ** 2) "
   ]
  },
  {
   "cell_type": "code",
   "execution_count": 151,
   "id": "a22055f2",
   "metadata": {},
   "outputs": [
    {
     "data": {
      "text/plain": [
       "[1, 4, 9, 16, 25, 36]"
      ]
     },
     "execution_count": 151,
     "metadata": {},
     "output_type": "execute_result"
    }
   ],
   "source": [
    "output"
   ]
  },
  {
   "cell_type": "code",
   "execution_count": null,
   "id": "f4ae3493",
   "metadata": {},
   "outputs": [],
   "source": [
    "{1: 1, 2: 4, 3: 9}"
   ]
  },
  {
   "cell_type": "code",
   "execution_count": 152,
   "id": "91f17bc0",
   "metadata": {},
   "outputs": [],
   "source": [
    "output = {}\n",
    "for i in num1:\n",
    "    output[i] = i ** 2"
   ]
  },
  {
   "cell_type": "code",
   "execution_count": 153,
   "id": "d4268759",
   "metadata": {},
   "outputs": [
    {
     "data": {
      "text/plain": [
       "{1: 1, 2: 4, 3: 9, 4: 16, 5: 25, 6: 36}"
      ]
     },
     "execution_count": 153,
     "metadata": {},
     "output_type": "execute_result"
    }
   ],
   "source": [
    "output"
   ]
  },
  {
   "cell_type": "code",
   "execution_count": null,
   "id": "76787f98",
   "metadata": {},
   "outputs": [],
   "source": [
    "num1 = [1, 2, 3, 4, 5, 6]\n",
    "# {1: 1, 2: 4, 3: 27}"
   ]
  },
  {
   "cell_type": "code",
   "execution_count": 155,
   "id": "990b9062",
   "metadata": {},
   "outputs": [],
   "source": [
    "output = {}\n",
    "for i in num1:\n",
    "    if i % 2 == 0:\n",
    "        output[i] = i ** 2\n",
    "    else: \n",
    "        output[i] = i ** 3"
   ]
  },
  {
   "cell_type": "code",
   "execution_count": 156,
   "id": "4514ff72",
   "metadata": {},
   "outputs": [
    {
     "data": {
      "text/plain": [
       "{1: 1, 2: 4, 3: 27, 4: 16, 5: 125, 6: 36}"
      ]
     },
     "execution_count": 156,
     "metadata": {},
     "output_type": "execute_result"
    }
   ],
   "source": [
    "output"
   ]
  },
  {
   "cell_type": "code",
   "execution_count": null,
   "id": "4c489b68",
   "metadata": {},
   "outputs": [],
   "source": [
    "# list comrehension, dictionary comprehension, tuple comrehension (generator)"
   ]
  },
  {
   "cell_type": "code",
   "execution_count": 157,
   "id": "379cb2d2",
   "metadata": {},
   "outputs": [],
   "source": [
    "# now I am writing another code"
   ]
  },
  {
   "cell_type": "code",
   "execution_count": 158,
   "id": "631785fa",
   "metadata": {},
   "outputs": [
    {
     "name": "stdout",
     "output_type": "stream",
     "text": [
      "Omolewa\n"
     ]
    }
   ],
   "source": [
    "print('Omolewa')"
   ]
  },
  {
   "cell_type": "code",
   "execution_count": null,
   "id": "90f44472",
   "metadata": {},
   "outputs": [],
   "source": []
  }
 ],
 "metadata": {
  "kernelspec": {
   "display_name": "Python 3 (ipykernel)",
   "language": "python",
   "name": "python3"
  },
  "language_info": {
   "codemirror_mode": {
    "name": "ipython",
    "version": 3
   },
   "file_extension": ".py",
   "mimetype": "text/x-python",
   "name": "python",
   "nbconvert_exporter": "python",
   "pygments_lexer": "ipython3",
   "version": "3.9.7"
  }
 },
 "nbformat": 4,
 "nbformat_minor": 5
}
