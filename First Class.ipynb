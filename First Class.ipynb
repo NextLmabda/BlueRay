{
 "cells": [
  {
   "cell_type": "code",
   "execution_count": 1,
   "id": "a847616a",
   "metadata": {},
   "outputs": [],
   "source": [
    "name1 = 'Omolewa'"
   ]
  },
  {
   "cell_type": "code",
   "execution_count": 2,
   "id": "04b9e4d9",
   "metadata": {},
   "outputs": [
    {
     "data": {
      "text/plain": [
       "'Omolewa'"
      ]
     },
     "execution_count": 2,
     "metadata": {},
     "output_type": "execute_result"
    }
   ],
   "source": [
    "name1"
   ]
  },
  {
   "cell_type": "code",
   "execution_count": 3,
   "id": "250cb973",
   "metadata": {},
   "outputs": [
    {
     "data": {
      "text/plain": [
       "str"
      ]
     },
     "execution_count": 3,
     "metadata": {},
     "output_type": "execute_result"
    }
   ],
   "source": [
    "type(name1)"
   ]
  },
  {
   "cell_type": "code",
   "execution_count": 4,
   "id": "c4c94915",
   "metadata": {},
   "outputs": [
    {
     "data": {
      "text/plain": [
       "'OmolewaOmolewaOmolewaOmolewaOmolewaOmolewaOmolewaOmolewaOmolewaOmolewa'"
      ]
     },
     "execution_count": 4,
     "metadata": {},
     "output_type": "execute_result"
    }
   ],
   "source": [
    "name1 * 10"
   ]
  },
  {
   "cell_type": "code",
   "execution_count": 5,
   "id": "06522dbe",
   "metadata": {},
   "outputs": [
    {
     "data": {
      "text/plain": [
       "'OMOLEWA'"
      ]
     },
     "execution_count": 5,
     "metadata": {},
     "output_type": "execute_result"
    }
   ],
   "source": [
    "name1.upper()"
   ]
  },
  {
   "cell_type": "code",
   "execution_count": 6,
   "id": "ee5d32fe",
   "metadata": {},
   "outputs": [
    {
     "data": {
      "text/plain": [
       "False"
      ]
     },
     "execution_count": 6,
     "metadata": {},
     "output_type": "execute_result"
    }
   ],
   "source": [
    "name1.isupper()"
   ]
  },
  {
   "cell_type": "code",
   "execution_count": 8,
   "id": "ba19bcde",
   "metadata": {},
   "outputs": [
    {
     "data": {
      "text/plain": [
       "'Bmolewa'"
      ]
     },
     "execution_count": 8,
     "metadata": {},
     "output_type": "execute_result"
    }
   ],
   "source": [
    "name1.replace('O', 'B')"
   ]
  },
  {
   "cell_type": "code",
   "execution_count": 9,
   "id": "6f581eba",
   "metadata": {},
   "outputs": [],
   "source": [
    "sent = 'I am a boy'"
   ]
  },
  {
   "cell_type": "code",
   "execution_count": 10,
   "id": "3af1cead",
   "metadata": {},
   "outputs": [
    {
     "data": {
      "text/plain": [
       "['I', 'am', 'a', 'boy']"
      ]
     },
     "execution_count": 10,
     "metadata": {},
     "output_type": "execute_result"
    }
   ],
   "source": [
    "sent.split()"
   ]
  },
  {
   "cell_type": "code",
   "execution_count": 80,
   "id": "33b85f66",
   "metadata": {},
   "outputs": [
    {
     "data": {
      "text/plain": [
       "2"
      ]
     },
     "execution_count": 80,
     "metadata": {},
     "output_type": "execute_result"
    }
   ],
   "source": [
    "sent.count('a')"
   ]
  },
  {
   "cell_type": "code",
   "execution_count": 11,
   "id": "dfcd134f",
   "metadata": {},
   "outputs": [],
   "source": [
    "date = '10-11-2022'"
   ]
  },
  {
   "cell_type": "code",
   "execution_count": 12,
   "id": "cca9784b",
   "metadata": {},
   "outputs": [
    {
     "data": {
      "text/plain": [
       "['10', '11', '2022']"
      ]
     },
     "execution_count": 12,
     "metadata": {},
     "output_type": "execute_result"
    }
   ],
   "source": [
    "date.split('-')"
   ]
  },
  {
   "cell_type": "code",
   "execution_count": 13,
   "id": "42b93aca",
   "metadata": {},
   "outputs": [
    {
     "data": {
      "text/plain": [
       "['I ', 'm ', ' boy']"
      ]
     },
     "execution_count": 13,
     "metadata": {},
     "output_type": "execute_result"
    }
   ],
   "source": [
    "sent.split('a')"
   ]
  },
  {
   "cell_type": "code",
   "execution_count": 26,
   "id": "82e6c6ce",
   "metadata": {},
   "outputs": [
    {
     "data": {
      "text/plain": [
       "10"
      ]
     },
     "execution_count": 26,
     "metadata": {},
     "output_type": "execute_result"
    }
   ],
   "source": [
    "len(sent)"
   ]
  },
  {
   "cell_type": "code",
   "execution_count": 14,
   "id": "e2851b56",
   "metadata": {},
   "outputs": [],
   "source": [
    "# Slicing"
   ]
  },
  {
   "cell_type": "code",
   "execution_count": 15,
   "id": "c719a153",
   "metadata": {},
   "outputs": [],
   "source": [
    "name = 'ADARAMOLA'"
   ]
  },
  {
   "cell_type": "code",
   "execution_count": 16,
   "id": "d0d7bb4f",
   "metadata": {},
   "outputs": [
    {
     "data": {
      "text/plain": [
       "'ARAMOLA'"
      ]
     },
     "execution_count": 16,
     "metadata": {},
     "output_type": "execute_result"
    }
   ],
   "source": [
    "name[2:9]"
   ]
  },
  {
   "cell_type": "code",
   "execution_count": 17,
   "id": "2cabaa1b",
   "metadata": {},
   "outputs": [
    {
     "data": {
      "text/plain": [
       "'ADARAM'"
      ]
     },
     "execution_count": 17,
     "metadata": {},
     "output_type": "execute_result"
    }
   ],
   "source": [
    "name[:6]"
   ]
  },
  {
   "cell_type": "code",
   "execution_count": 18,
   "id": "ac5e0201",
   "metadata": {},
   "outputs": [
    {
     "data": {
      "text/plain": [
       "'AMA'"
      ]
     },
     "execution_count": 18,
     "metadata": {},
     "output_type": "execute_result"
    }
   ],
   "source": [
    "name[2::3]"
   ]
  },
  {
   "cell_type": "code",
   "execution_count": 19,
   "id": "75db3b62",
   "metadata": {},
   "outputs": [
    {
     "data": {
      "text/plain": [
       "'ALOMARADA'"
      ]
     },
     "execution_count": 19,
     "metadata": {},
     "output_type": "execute_result"
    }
   ],
   "source": [
    "name[::-1]"
   ]
  },
  {
   "cell_type": "code",
   "execution_count": 20,
   "id": "daf0bdd4",
   "metadata": {},
   "outputs": [],
   "source": [
    "name = 'DAD'"
   ]
  },
  {
   "cell_type": "code",
   "execution_count": 25,
   "id": "4fa08d6d",
   "metadata": {},
   "outputs": [
    {
     "data": {
      "text/plain": [
       "3"
      ]
     },
     "execution_count": 25,
     "metadata": {},
     "output_type": "execute_result"
    }
   ],
   "source": [
    "len(name)"
   ]
  },
  {
   "cell_type": "code",
   "execution_count": 21,
   "id": "171381bc",
   "metadata": {},
   "outputs": [
    {
     "data": {
      "text/plain": [
       "'DAD'"
      ]
     },
     "execution_count": 21,
     "metadata": {},
     "output_type": "execute_result"
    }
   ],
   "source": [
    "name[::-1]"
   ]
  },
  {
   "cell_type": "code",
   "execution_count": 22,
   "id": "dc554047",
   "metadata": {},
   "outputs": [
    {
     "data": {
      "text/plain": [
       "True"
      ]
     },
     "execution_count": 22,
     "metadata": {},
     "output_type": "execute_result"
    }
   ],
   "source": [
    "name == name[::-1]"
   ]
  },
  {
   "cell_type": "code",
   "execution_count": 23,
   "id": "ebd3c5ba",
   "metadata": {},
   "outputs": [],
   "source": [
    "# list"
   ]
  },
  {
   "cell_type": "code",
   "execution_count": 24,
   "id": "62a66671",
   "metadata": {},
   "outputs": [],
   "source": [
    "lis = []"
   ]
  },
  {
   "cell_type": "code",
   "execution_count": 27,
   "id": "4b3bf9a9",
   "metadata": {},
   "outputs": [
    {
     "data": {
      "text/plain": [
       "0"
      ]
     },
     "execution_count": 27,
     "metadata": {},
     "output_type": "execute_result"
    }
   ],
   "source": [
    "len(lis)"
   ]
  },
  {
   "cell_type": "code",
   "execution_count": 28,
   "id": "9eff4694",
   "metadata": {},
   "outputs": [],
   "source": [
    "# popuplate"
   ]
  },
  {
   "cell_type": "code",
   "execution_count": 29,
   "id": "3edfba93",
   "metadata": {},
   "outputs": [],
   "source": [
    "lis.append('Lanre')"
   ]
  },
  {
   "cell_type": "code",
   "execution_count": 30,
   "id": "143fe16f",
   "metadata": {},
   "outputs": [
    {
     "data": {
      "text/plain": [
       "['Lanre']"
      ]
     },
     "execution_count": 30,
     "metadata": {},
     "output_type": "execute_result"
    }
   ],
   "source": [
    "lis"
   ]
  },
  {
   "cell_type": "code",
   "execution_count": 31,
   "id": "4043ddc0",
   "metadata": {},
   "outputs": [],
   "source": [
    "lis.append('Jossy')"
   ]
  },
  {
   "cell_type": "code",
   "execution_count": 139,
   "id": "859afaa0",
   "metadata": {},
   "outputs": [],
   "source": [
    "lis.append(2 * 3 * 4)"
   ]
  },
  {
   "cell_type": "code",
   "execution_count": 140,
   "id": "8d187c5b",
   "metadata": {},
   "outputs": [
    {
     "data": {
      "text/plain": [
       "['DAD', 24]"
      ]
     },
     "execution_count": 140,
     "metadata": {},
     "output_type": "execute_result"
    }
   ],
   "source": [
    "lis"
   ]
  },
  {
   "cell_type": "code",
   "execution_count": 32,
   "id": "ca23cd14",
   "metadata": {},
   "outputs": [
    {
     "data": {
      "text/plain": [
       "['Lanre', 'Jossy']"
      ]
     },
     "execution_count": 32,
     "metadata": {},
     "output_type": "execute_result"
    }
   ],
   "source": [
    "lis"
   ]
  },
  {
   "cell_type": "code",
   "execution_count": 33,
   "id": "e5118f12",
   "metadata": {},
   "outputs": [],
   "source": [
    "lis.append(name)"
   ]
  },
  {
   "cell_type": "code",
   "execution_count": 34,
   "id": "681ae209",
   "metadata": {},
   "outputs": [
    {
     "data": {
      "text/plain": [
       "['Lanre', 'Jossy', 'DAD']"
      ]
     },
     "execution_count": 34,
     "metadata": {},
     "output_type": "execute_result"
    }
   ],
   "source": [
    "lis"
   ]
  },
  {
   "cell_type": "code",
   "execution_count": 35,
   "id": "3330cc90",
   "metadata": {},
   "outputs": [
    {
     "data": {
      "text/plain": [
       "['Lanre', 'Jossy', 'DAD']"
      ]
     },
     "execution_count": 35,
     "metadata": {},
     "output_type": "execute_result"
    }
   ],
   "source": [
    "lis"
   ]
  },
  {
   "cell_type": "code",
   "execution_count": 36,
   "id": "568f39ba",
   "metadata": {},
   "outputs": [],
   "source": [
    "lis.reverse()"
   ]
  },
  {
   "cell_type": "code",
   "execution_count": 37,
   "id": "35d79127",
   "metadata": {},
   "outputs": [
    {
     "data": {
      "text/plain": [
       "['DAD', 'Jossy', 'Lanre']"
      ]
     },
     "execution_count": 37,
     "metadata": {},
     "output_type": "execute_result"
    }
   ],
   "source": [
    "lis"
   ]
  },
  {
   "cell_type": "code",
   "execution_count": 38,
   "id": "b6c46368",
   "metadata": {},
   "outputs": [
    {
     "data": {
      "text/plain": [
       "'Lanre'"
      ]
     },
     "execution_count": 38,
     "metadata": {},
     "output_type": "execute_result"
    }
   ],
   "source": [
    "lis.pop(2)"
   ]
  },
  {
   "cell_type": "code",
   "execution_count": 39,
   "id": "00860003",
   "metadata": {},
   "outputs": [
    {
     "data": {
      "text/plain": [
       "['DAD', 'Jossy']"
      ]
     },
     "execution_count": 39,
     "metadata": {},
     "output_type": "execute_result"
    }
   ],
   "source": [
    "lis"
   ]
  },
  {
   "cell_type": "code",
   "execution_count": 40,
   "id": "ac2b10c1",
   "metadata": {},
   "outputs": [],
   "source": [
    "lis.remove('Jossy')"
   ]
  },
  {
   "cell_type": "code",
   "execution_count": 41,
   "id": "c91a8da5",
   "metadata": {},
   "outputs": [
    {
     "data": {
      "text/plain": [
       "['DAD']"
      ]
     },
     "execution_count": 41,
     "metadata": {},
     "output_type": "execute_result"
    }
   ],
   "source": [
    "lis"
   ]
  },
  {
   "cell_type": "code",
   "execution_count": 42,
   "id": "295a7b64",
   "metadata": {},
   "outputs": [
    {
     "ename": "ValueError",
     "evalue": "list.remove(x): x not in list",
     "output_type": "error",
     "traceback": [
      "\u001b[1;31m---------------------------------------------------------------------------\u001b[0m",
      "\u001b[1;31mValueError\u001b[0m                                Traceback (most recent call last)",
      "\u001b[1;32mC:\\Users\\OMOLEW~1\\AppData\\Local\\Temp/ipykernel_18332/489624070.py\u001b[0m in \u001b[0;36m<module>\u001b[1;34m\u001b[0m\n\u001b[1;32m----> 1\u001b[1;33m \u001b[0mlis\u001b[0m\u001b[1;33m.\u001b[0m\u001b[0mremove\u001b[0m\u001b[1;33m(\u001b[0m\u001b[1;34m'dad'\u001b[0m\u001b[1;33m)\u001b[0m\u001b[1;33m\u001b[0m\u001b[1;33m\u001b[0m\u001b[0m\n\u001b[0m",
      "\u001b[1;31mValueError\u001b[0m: list.remove(x): x not in list"
     ]
    }
   ],
   "source": [
    "lis.remove('dad')"
   ]
  },
  {
   "cell_type": "code",
   "execution_count": 43,
   "id": "fcb99f3d",
   "metadata": {},
   "outputs": [],
   "source": [
    "name = ['Omolewa', 'Bukola', 'Adaramola']"
   ]
  },
  {
   "cell_type": "code",
   "execution_count": 44,
   "id": "92238fe3",
   "metadata": {},
   "outputs": [
    {
     "data": {
      "text/plain": [
       "'OmolewaBukolaAdaramola'"
      ]
     },
     "execution_count": 44,
     "metadata": {},
     "output_type": "execute_result"
    }
   ],
   "source": [
    "''.join(name)"
   ]
  },
  {
   "cell_type": "code",
   "execution_count": 45,
   "id": "4f801908",
   "metadata": {},
   "outputs": [
    {
     "data": {
      "text/plain": [
       "'Omolewa Bukola Adaramola'"
      ]
     },
     "execution_count": 45,
     "metadata": {},
     "output_type": "execute_result"
    }
   ],
   "source": [
    "' '.join(name)"
   ]
  },
  {
   "cell_type": "code",
   "execution_count": 46,
   "id": "5cf4a546",
   "metadata": {},
   "outputs": [
    {
     "data": {
      "text/plain": [
       "'Omolewa-Bukola-Adaramola'"
      ]
     },
     "execution_count": 46,
     "metadata": {},
     "output_type": "execute_result"
    }
   ],
   "source": [
    "'-'.join(name)"
   ]
  },
  {
   "cell_type": "code",
   "execution_count": 47,
   "id": "bc9a2f26",
   "metadata": {},
   "outputs": [
    {
     "data": {
      "text/plain": [
       "'Omolewa      Bukola      Adaramola'"
      ]
     },
     "execution_count": 47,
     "metadata": {},
     "output_type": "execute_result"
    }
   ],
   "source": [
    "'      '.join(name)"
   ]
  },
  {
   "cell_type": "code",
   "execution_count": 48,
   "id": "0db7c187",
   "metadata": {},
   "outputs": [
    {
     "data": {
      "text/plain": [
       "['Omolewa', 'Bukola', 'Adaramola']"
      ]
     },
     "execution_count": 48,
     "metadata": {},
     "output_type": "execute_result"
    }
   ],
   "source": [
    "name"
   ]
  },
  {
   "cell_type": "code",
   "execution_count": 49,
   "id": "83392c00",
   "metadata": {},
   "outputs": [],
   "source": [
    "name.append('Jossy')"
   ]
  },
  {
   "cell_type": "code",
   "execution_count": 50,
   "id": "593a4d25",
   "metadata": {},
   "outputs": [],
   "source": [
    "name.append('Lanre')"
   ]
  },
  {
   "cell_type": "code",
   "execution_count": 51,
   "id": "f0494514",
   "metadata": {},
   "outputs": [],
   "source": [
    "name.append('Ray')"
   ]
  },
  {
   "cell_type": "code",
   "execution_count": 52,
   "id": "a6f1573e",
   "metadata": {},
   "outputs": [],
   "source": [
    "name.append('George')"
   ]
  },
  {
   "cell_type": "code",
   "execution_count": null,
   "id": "79174862",
   "metadata": {},
   "outputs": [],
   "source": []
  },
  {
   "cell_type": "code",
   "execution_count": 53,
   "id": "38c8a1eb",
   "metadata": {},
   "outputs": [
    {
     "data": {
      "text/plain": [
       "['Omolewa', 'Bukola', 'Adaramola', 'Jossy', 'Lanre', 'Ray', 'George']"
      ]
     },
     "execution_count": 53,
     "metadata": {},
     "output_type": "execute_result"
    }
   ],
   "source": [
    "name"
   ]
  },
  {
   "cell_type": "code",
   "execution_count": 54,
   "id": "69f7061e",
   "metadata": {},
   "outputs": [
    {
     "data": {
      "text/plain": [
       "'Omolewa'"
      ]
     },
     "execution_count": 54,
     "metadata": {},
     "output_type": "execute_result"
    }
   ],
   "source": [
    "name[0]"
   ]
  },
  {
   "cell_type": "code",
   "execution_count": 55,
   "id": "81f24841",
   "metadata": {},
   "outputs": [
    {
     "data": {
      "text/plain": [
       "'George'"
      ]
     },
     "execution_count": 55,
     "metadata": {},
     "output_type": "execute_result"
    }
   ],
   "source": [
    "name[-1]"
   ]
  },
  {
   "cell_type": "code",
   "execution_count": 56,
   "id": "5258577d",
   "metadata": {},
   "outputs": [
    {
     "data": {
      "text/plain": [
       "['Adaramola', 'Jossy', 'Lanre']"
      ]
     },
     "execution_count": 56,
     "metadata": {},
     "output_type": "execute_result"
    }
   ],
   "source": [
    "name[2:5]"
   ]
  },
  {
   "cell_type": "code",
   "execution_count": 57,
   "id": "4c358709",
   "metadata": {},
   "outputs": [],
   "source": [
    "name.insert(2, 'Ogechi')"
   ]
  },
  {
   "cell_type": "code",
   "execution_count": 58,
   "id": "f8309874",
   "metadata": {},
   "outputs": [
    {
     "data": {
      "text/plain": [
       "['Omolewa', 'Bukola', 'Ogechi', 'Adaramola', 'Jossy', 'Lanre', 'Ray', 'George']"
      ]
     },
     "execution_count": 58,
     "metadata": {},
     "output_type": "execute_result"
    }
   ],
   "source": [
    "name"
   ]
  },
  {
   "cell_type": "code",
   "execution_count": 59,
   "id": "93b06862",
   "metadata": {},
   "outputs": [
    {
     "data": {
      "text/plain": [
       "1"
      ]
     },
     "execution_count": 59,
     "metadata": {},
     "output_type": "execute_result"
    }
   ],
   "source": [
    "name.count('Bukola')"
   ]
  },
  {
   "cell_type": "code",
   "execution_count": 60,
   "id": "3a58efbc",
   "metadata": {},
   "outputs": [],
   "source": [
    "# append, insert, extend"
   ]
  },
  {
   "cell_type": "code",
   "execution_count": 61,
   "id": "7325cdea",
   "metadata": {},
   "outputs": [],
   "source": [
    "moreName = ['Felix', 'Jaiye']"
   ]
  },
  {
   "cell_type": "code",
   "execution_count": 62,
   "id": "92fc1aac",
   "metadata": {},
   "outputs": [
    {
     "data": {
      "text/plain": [
       "['Omolewa', 'Bukola', 'Ogechi', 'Adaramola', 'Jossy', 'Lanre', 'Ray', 'George']"
      ]
     },
     "execution_count": 62,
     "metadata": {},
     "output_type": "execute_result"
    }
   ],
   "source": [
    "name"
   ]
  },
  {
   "cell_type": "code",
   "execution_count": 63,
   "id": "cbd0badc",
   "metadata": {},
   "outputs": [
    {
     "data": {
      "text/plain": [
       "['Felix', 'Jaiye']"
      ]
     },
     "execution_count": 63,
     "metadata": {},
     "output_type": "execute_result"
    }
   ],
   "source": [
    "moreName"
   ]
  },
  {
   "cell_type": "code",
   "execution_count": 64,
   "id": "954b173c",
   "metadata": {},
   "outputs": [],
   "source": [
    "name.append(moreName)"
   ]
  },
  {
   "cell_type": "code",
   "execution_count": 65,
   "id": "30a0b0b6",
   "metadata": {},
   "outputs": [
    {
     "data": {
      "text/plain": [
       "['Omolewa',\n",
       " 'Bukola',\n",
       " 'Ogechi',\n",
       " 'Adaramola',\n",
       " 'Jossy',\n",
       " 'Lanre',\n",
       " 'Ray',\n",
       " 'George',\n",
       " ['Felix', 'Jaiye']]"
      ]
     },
     "execution_count": 65,
     "metadata": {},
     "output_type": "execute_result"
    }
   ],
   "source": [
    "name"
   ]
  },
  {
   "cell_type": "code",
   "execution_count": 66,
   "id": "4faa83f9",
   "metadata": {},
   "outputs": [],
   "source": [
    "name.remove('Omolewa')"
   ]
  },
  {
   "cell_type": "code",
   "execution_count": 68,
   "id": "b05f1d33",
   "metadata": {},
   "outputs": [],
   "source": [
    "name.remove('Bukola')"
   ]
  },
  {
   "cell_type": "code",
   "execution_count": 69,
   "id": "ba7dd6a3",
   "metadata": {},
   "outputs": [
    {
     "data": {
      "text/plain": [
       "['Ogechi', 'Adaramola', 'Jossy', 'Lanre', 'Ray', 'George', ['Felix', 'Jaiye']]"
      ]
     },
     "execution_count": 69,
     "metadata": {},
     "output_type": "execute_result"
    }
   ],
   "source": [
    "name"
   ]
  },
  {
   "cell_type": "code",
   "execution_count": 70,
   "id": "b2fe0ca1",
   "metadata": {},
   "outputs": [
    {
     "data": {
      "text/plain": [
       "['Felix', 'Jaiye']"
      ]
     },
     "execution_count": 70,
     "metadata": {},
     "output_type": "execute_result"
    }
   ],
   "source": [
    "name.pop(-1)"
   ]
  },
  {
   "cell_type": "code",
   "execution_count": 71,
   "id": "14817920",
   "metadata": {},
   "outputs": [
    {
     "data": {
      "text/plain": [
       "['Ogechi', 'Adaramola', 'Jossy', 'Lanre', 'Ray', 'George']"
      ]
     },
     "execution_count": 71,
     "metadata": {},
     "output_type": "execute_result"
    }
   ],
   "source": [
    "name"
   ]
  },
  {
   "cell_type": "code",
   "execution_count": 72,
   "id": "a54a37c7",
   "metadata": {},
   "outputs": [
    {
     "data": {
      "text/plain": [
       "['Felix', 'Jaiye']"
      ]
     },
     "execution_count": 72,
     "metadata": {},
     "output_type": "execute_result"
    }
   ],
   "source": [
    "moreName"
   ]
  },
  {
   "cell_type": "code",
   "execution_count": 73,
   "id": "10afe335",
   "metadata": {},
   "outputs": [],
   "source": [
    "name.append(moreName)"
   ]
  },
  {
   "cell_type": "code",
   "execution_count": 74,
   "id": "92be38a1",
   "metadata": {},
   "outputs": [
    {
     "data": {
      "text/plain": [
       "['Ogechi', 'Adaramola', 'Jossy', 'Lanre', 'Ray', 'George', ['Felix', 'Jaiye']]"
      ]
     },
     "execution_count": 74,
     "metadata": {},
     "output_type": "execute_result"
    }
   ],
   "source": [
    "name"
   ]
  },
  {
   "cell_type": "code",
   "execution_count": 75,
   "id": "a1e396fb",
   "metadata": {},
   "outputs": [
    {
     "data": {
      "text/plain": [
       "['Felix', 'Jaiye']"
      ]
     },
     "execution_count": 75,
     "metadata": {},
     "output_type": "execute_result"
    }
   ],
   "source": [
    "name.pop(6)"
   ]
  },
  {
   "cell_type": "code",
   "execution_count": 76,
   "id": "a728f353",
   "metadata": {},
   "outputs": [
    {
     "data": {
      "text/plain": [
       "['Ogechi', 'Adaramola', 'Jossy', 'Lanre', 'Ray', 'George']"
      ]
     },
     "execution_count": 76,
     "metadata": {},
     "output_type": "execute_result"
    }
   ],
   "source": [
    "name"
   ]
  },
  {
   "cell_type": "code",
   "execution_count": 77,
   "id": "d0c8b80b",
   "metadata": {},
   "outputs": [],
   "source": [
    "name.extend(moreName)"
   ]
  },
  {
   "cell_type": "code",
   "execution_count": 78,
   "id": "2bff85ca",
   "metadata": {},
   "outputs": [
    {
     "data": {
      "text/plain": [
       "['Ogechi', 'Adaramola', 'Jossy', 'Lanre', 'Ray', 'George', 'Felix', 'Jaiye']"
      ]
     },
     "execution_count": 78,
     "metadata": {},
     "output_type": "execute_result"
    }
   ],
   "source": [
    "name"
   ]
  },
  {
   "cell_type": "code",
   "execution_count": 81,
   "id": "aa9955f6",
   "metadata": {},
   "outputs": [],
   "source": [
    "# tuple"
   ]
  },
  {
   "cell_type": "code",
   "execution_count": 88,
   "id": "936f37b2",
   "metadata": {},
   "outputs": [],
   "source": [
    "name = ('Omolewa', 'Lanre')"
   ]
  },
  {
   "cell_type": "code",
   "execution_count": 89,
   "id": "3c64ce52",
   "metadata": {},
   "outputs": [
    {
     "data": {
      "text/plain": [
       "['Omolewa', 'Lanre']"
      ]
     },
     "execution_count": 89,
     "metadata": {},
     "output_type": "execute_result"
    }
   ],
   "source": [
    "list(name)"
   ]
  },
  {
   "cell_type": "code",
   "execution_count": 90,
   "id": "43dee4c1",
   "metadata": {},
   "outputs": [
    {
     "data": {
      "text/plain": [
       "('Omolewa', 'Lanre')"
      ]
     },
     "execution_count": 90,
     "metadata": {},
     "output_type": "execute_result"
    }
   ],
   "source": [
    "name"
   ]
  },
  {
   "cell_type": "code",
   "execution_count": 91,
   "id": "4c55b049",
   "metadata": {},
   "outputs": [
    {
     "ename": "AttributeError",
     "evalue": "'tuple' object has no attribute 'remove'",
     "output_type": "error",
     "traceback": [
      "\u001b[1;31m---------------------------------------------------------------------------\u001b[0m",
      "\u001b[1;31mAttributeError\u001b[0m                            Traceback (most recent call last)",
      "\u001b[1;32mC:\\Users\\OMOLEW~1\\AppData\\Local\\Temp/ipykernel_18332/2180205719.py\u001b[0m in \u001b[0;36m<module>\u001b[1;34m\u001b[0m\n\u001b[1;32m----> 1\u001b[1;33m \u001b[0mname\u001b[0m\u001b[1;33m.\u001b[0m\u001b[0mremove\u001b[0m\u001b[1;33m(\u001b[0m\u001b[1;33m)\u001b[0m\u001b[1;33m\u001b[0m\u001b[1;33m\u001b[0m\u001b[0m\n\u001b[0m",
      "\u001b[1;31mAttributeError\u001b[0m: 'tuple' object has no attribute 'remove'"
     ]
    }
   ],
   "source": [
    "name.remove()"
   ]
  },
  {
   "cell_type": "code",
   "execution_count": 96,
   "id": "725632dc",
   "metadata": {},
   "outputs": [],
   "source": [
    "lis2 = list(name)"
   ]
  },
  {
   "cell_type": "code",
   "execution_count": 98,
   "id": "3119189e",
   "metadata": {},
   "outputs": [],
   "source": [
    "lis2.remove('Lanre')"
   ]
  },
  {
   "cell_type": "code",
   "execution_count": 99,
   "id": "78b6b0ca",
   "metadata": {},
   "outputs": [
    {
     "data": {
      "text/plain": [
       "['Omolewa']"
      ]
     },
     "execution_count": 99,
     "metadata": {},
     "output_type": "execute_result"
    }
   ],
   "source": [
    "lis2"
   ]
  },
  {
   "cell_type": "code",
   "execution_count": 100,
   "id": "c2ac98d2",
   "metadata": {},
   "outputs": [],
   "source": [
    "name = tuple(lis2)"
   ]
  },
  {
   "cell_type": "code",
   "execution_count": 101,
   "id": "c15379ad",
   "metadata": {},
   "outputs": [
    {
     "data": {
      "text/plain": [
       "('Omolewa',)"
      ]
     },
     "execution_count": 101,
     "metadata": {},
     "output_type": "execute_result"
    }
   ],
   "source": [
    "name"
   ]
  },
  {
   "cell_type": "code",
   "execution_count": 102,
   "id": "5d29e5ae",
   "metadata": {},
   "outputs": [],
   "source": [
    "# Dictionary"
   ]
  },
  {
   "cell_type": "code",
   "execution_count": 103,
   "id": "f0d5e643",
   "metadata": {},
   "outputs": [],
   "source": [
    "dic = {}"
   ]
  },
  {
   "cell_type": "code",
   "execution_count": 104,
   "id": "b4e7ae22",
   "metadata": {},
   "outputs": [
    {
     "data": {
      "text/plain": [
       "dict"
      ]
     },
     "execution_count": 104,
     "metadata": {},
     "output_type": "execute_result"
    }
   ],
   "source": [
    "type(dic)"
   ]
  },
  {
   "cell_type": "code",
   "execution_count": 105,
   "id": "e7eacb7c",
   "metadata": {},
   "outputs": [
    {
     "data": {
      "text/plain": [
       "{}"
      ]
     },
     "execution_count": 105,
     "metadata": {},
     "output_type": "execute_result"
    }
   ],
   "source": [
    "dic"
   ]
  },
  {
   "cell_type": "code",
   "execution_count": 106,
   "id": "35967ec4",
   "metadata": {},
   "outputs": [],
   "source": [
    "dic['Nigeria'] = 'Abuja'"
   ]
  },
  {
   "cell_type": "code",
   "execution_count": 107,
   "id": "26217532",
   "metadata": {},
   "outputs": [
    {
     "data": {
      "text/plain": [
       "{'Nigeria': 'Abuja'}"
      ]
     },
     "execution_count": 107,
     "metadata": {},
     "output_type": "execute_result"
    }
   ],
   "source": [
    "dic"
   ]
  },
  {
   "cell_type": "code",
   "execution_count": 108,
   "id": "cebf3842",
   "metadata": {},
   "outputs": [],
   "source": [
    "dic['USA'] = 'DC'"
   ]
  },
  {
   "cell_type": "code",
   "execution_count": 109,
   "id": "ae288d12",
   "metadata": {},
   "outputs": [
    {
     "data": {
      "text/plain": [
       "{'Nigeria': 'Abuja', 'USA': 'DC'}"
      ]
     },
     "execution_count": 109,
     "metadata": {},
     "output_type": "execute_result"
    }
   ],
   "source": [
    "dic"
   ]
  },
  {
   "cell_type": "code",
   "execution_count": 110,
   "id": "be625ac7",
   "metadata": {},
   "outputs": [],
   "source": [
    "dic['Cameroun'] = 'Yaounde'"
   ]
  },
  {
   "cell_type": "code",
   "execution_count": 111,
   "id": "b5214d23",
   "metadata": {},
   "outputs": [
    {
     "data": {
      "text/plain": [
       "{'Nigeria': 'Abuja', 'USA': 'DC', 'Cameroun': 'Yaounde'}"
      ]
     },
     "execution_count": 111,
     "metadata": {},
     "output_type": "execute_result"
    }
   ],
   "source": [
    "dic"
   ]
  },
  {
   "cell_type": "code",
   "execution_count": 112,
   "id": "139859cc",
   "metadata": {},
   "outputs": [
    {
     "data": {
      "text/plain": [
       "{'Nigeria': 'Abuja', 'USA': 'DC', 'Cameroun': 'Yaounde'}"
      ]
     },
     "execution_count": 112,
     "metadata": {},
     "output_type": "execute_result"
    }
   ],
   "source": [
    "dic"
   ]
  },
  {
   "cell_type": "code",
   "execution_count": 113,
   "id": "d9c797f0",
   "metadata": {},
   "outputs": [
    {
     "data": {
      "text/plain": [
       "dict_keys(['Nigeria', 'USA', 'Cameroun'])"
      ]
     },
     "execution_count": 113,
     "metadata": {},
     "output_type": "execute_result"
    }
   ],
   "source": [
    "dic.keys()"
   ]
  },
  {
   "cell_type": "code",
   "execution_count": 114,
   "id": "58abf4b5",
   "metadata": {},
   "outputs": [
    {
     "data": {
      "text/plain": [
       "dict_values(['Abuja', 'DC', 'Yaounde'])"
      ]
     },
     "execution_count": 114,
     "metadata": {},
     "output_type": "execute_result"
    }
   ],
   "source": [
    "dic.values()"
   ]
  },
  {
   "cell_type": "code",
   "execution_count": 115,
   "id": "982ed235",
   "metadata": {},
   "outputs": [
    {
     "data": {
      "text/plain": [
       "['Abuja', 'DC', 'Yaounde']"
      ]
     },
     "execution_count": 115,
     "metadata": {},
     "output_type": "execute_result"
    }
   ],
   "source": [
    "list(dic.values())"
   ]
  },
  {
   "cell_type": "code",
   "execution_count": 116,
   "id": "abbca8f1",
   "metadata": {},
   "outputs": [
    {
     "data": {
      "text/plain": [
       "{'Nigeria': 'Abuja', 'USA': 'DC', 'Cameroun': 'Yaounde'}"
      ]
     },
     "execution_count": 116,
     "metadata": {},
     "output_type": "execute_result"
    }
   ],
   "source": [
    "dic"
   ]
  },
  {
   "cell_type": "code",
   "execution_count": 117,
   "id": "591dc207",
   "metadata": {},
   "outputs": [
    {
     "data": {
      "text/plain": [
       "'Abuja'"
      ]
     },
     "execution_count": 117,
     "metadata": {},
     "output_type": "execute_result"
    }
   ],
   "source": [
    "dic.get('Nigeria')"
   ]
  },
  {
   "cell_type": "code",
   "execution_count": 118,
   "id": "b496deed",
   "metadata": {},
   "outputs": [
    {
     "data": {
      "text/plain": [
       "'Yaounde'"
      ]
     },
     "execution_count": 118,
     "metadata": {},
     "output_type": "execute_result"
    }
   ],
   "source": [
    "dic.get('Cameroun')"
   ]
  },
  {
   "cell_type": "code",
   "execution_count": 119,
   "id": "5e0a0d8e",
   "metadata": {},
   "outputs": [],
   "source": [
    "dic.get('Ghana')"
   ]
  },
  {
   "cell_type": "code",
   "execution_count": 120,
   "id": "30735487",
   "metadata": {},
   "outputs": [
    {
     "data": {
      "text/plain": [
       "'Yaounde'"
      ]
     },
     "execution_count": 120,
     "metadata": {},
     "output_type": "execute_result"
    }
   ],
   "source": [
    "dic.get('Cameroun')"
   ]
  },
  {
   "cell_type": "code",
   "execution_count": 121,
   "id": "788e6b8a",
   "metadata": {},
   "outputs": [
    {
     "data": {
      "text/plain": [
       "'Yaounde'"
      ]
     },
     "execution_count": 121,
     "metadata": {},
     "output_type": "execute_result"
    }
   ],
   "source": [
    "dic['Cameroun']"
   ]
  },
  {
   "cell_type": "code",
   "execution_count": 122,
   "id": "a0acabc8",
   "metadata": {},
   "outputs": [
    {
     "ename": "KeyError",
     "evalue": "'Ghana'",
     "output_type": "error",
     "traceback": [
      "\u001b[1;31m---------------------------------------------------------------------------\u001b[0m",
      "\u001b[1;31mKeyError\u001b[0m                                  Traceback (most recent call last)",
      "\u001b[1;32mC:\\Users\\OMOLEW~1\\AppData\\Local\\Temp/ipykernel_18332/2442933273.py\u001b[0m in \u001b[0;36m<module>\u001b[1;34m\u001b[0m\n\u001b[1;32m----> 1\u001b[1;33m \u001b[0mdic\u001b[0m\u001b[1;33m[\u001b[0m\u001b[1;34m'Ghana'\u001b[0m\u001b[1;33m]\u001b[0m\u001b[1;33m\u001b[0m\u001b[1;33m\u001b[0m\u001b[0m\n\u001b[0m",
      "\u001b[1;31mKeyError\u001b[0m: 'Ghana'"
     ]
    }
   ],
   "source": [
    "dic['Ghana']"
   ]
  },
  {
   "cell_type": "code",
   "execution_count": 123,
   "id": "faa0be9d",
   "metadata": {},
   "outputs": [],
   "source": [
    "dic.get('Ghana')"
   ]
  },
  {
   "cell_type": "code",
   "execution_count": 124,
   "id": "6e659ec0",
   "metadata": {},
   "outputs": [
    {
     "data": {
      "text/plain": [
       "'Nothig is found'"
      ]
     },
     "execution_count": 124,
     "metadata": {},
     "output_type": "execute_result"
    }
   ],
   "source": [
    "dic.get('Ghana', 'Nothig is found')"
   ]
  },
  {
   "cell_type": "code",
   "execution_count": 126,
   "id": "c74a3929",
   "metadata": {},
   "outputs": [
    {
     "data": {
      "text/plain": [
       "'Abuja'"
      ]
     },
     "execution_count": 126,
     "metadata": {},
     "output_type": "execute_result"
    }
   ],
   "source": [
    "dic.get('Nigeria', 'Jump Jump')"
   ]
  },
  {
   "cell_type": "code",
   "execution_count": 127,
   "id": "36e7c1e7",
   "metadata": {},
   "outputs": [],
   "source": [
    "dic['Nigeria'] = 'Lagos'"
   ]
  },
  {
   "cell_type": "code",
   "execution_count": 128,
   "id": "f0441801",
   "metadata": {},
   "outputs": [
    {
     "data": {
      "text/plain": [
       "{'Nigeria': 'Lagos', 'USA': 'DC', 'Cameroun': 'Yaounde'}"
      ]
     },
     "execution_count": 128,
     "metadata": {},
     "output_type": "execute_result"
    }
   ],
   "source": [
    "dic"
   ]
  },
  {
   "cell_type": "code",
   "execution_count": 129,
   "id": "311ffe33",
   "metadata": {},
   "outputs": [],
   "source": [
    "dic['Ghana'] = 'Accra'"
   ]
  },
  {
   "cell_type": "code",
   "execution_count": 130,
   "id": "a5a36181",
   "metadata": {},
   "outputs": [
    {
     "data": {
      "text/plain": [
       "{'Nigeria': 'Lagos', 'USA': 'DC', 'Cameroun': 'Yaounde', 'Ghana': 'Accra'}"
      ]
     },
     "execution_count": 130,
     "metadata": {},
     "output_type": "execute_result"
    }
   ],
   "source": [
    "dic"
   ]
  },
  {
   "cell_type": "code",
   "execution_count": 131,
   "id": "a8f491dd",
   "metadata": {},
   "outputs": [],
   "source": [
    "dic['Ghana'] = 'Damascus'"
   ]
  },
  {
   "cell_type": "code",
   "execution_count": 132,
   "id": "616ba2ab",
   "metadata": {},
   "outputs": [
    {
     "data": {
      "text/plain": [
       "{'Nigeria': 'Lagos', 'USA': 'DC', 'Cameroun': 'Yaounde', 'Ghana': 'Damascus'}"
      ]
     },
     "execution_count": 132,
     "metadata": {},
     "output_type": "execute_result"
    }
   ],
   "source": [
    "dic"
   ]
  },
  {
   "cell_type": "code",
   "execution_count": 133,
   "id": "78cb12e1",
   "metadata": {},
   "outputs": [],
   "source": [
    "dic['nigeria'] = 'Ife'"
   ]
  },
  {
   "cell_type": "code",
   "execution_count": 134,
   "id": "56c4d6aa",
   "metadata": {},
   "outputs": [
    {
     "data": {
      "text/plain": [
       "{'Nigeria': 'Lagos',\n",
       " 'USA': 'DC',\n",
       " 'Cameroun': 'Yaounde',\n",
       " 'Ghana': 'Damascus',\n",
       " 'nigeria': 'Ife'}"
      ]
     },
     "execution_count": 134,
     "metadata": {},
     "output_type": "execute_result"
    }
   ],
   "source": [
    "dic"
   ]
  },
  {
   "cell_type": "code",
   "execution_count": 135,
   "id": "f504d8c4",
   "metadata": {},
   "outputs": [],
   "source": [
    "fname = ['Omolewa', 'Jossy', 'Lanre']\n",
    "lname = ['Adaramola', 'Chu', 'Ogunyemi']"
   ]
  },
  {
   "cell_type": "code",
   "execution_count": 136,
   "id": "bcc12bd9",
   "metadata": {},
   "outputs": [],
   "source": [
    "# {'Adaramola': 'Omolewa'}"
   ]
  },
  {
   "cell_type": "code",
   "execution_count": 137,
   "id": "f9e2c02c",
   "metadata": {},
   "outputs": [
    {
     "data": {
      "text/plain": [
       "<zip at 0x20b83e80780>"
      ]
     },
     "execution_count": 137,
     "metadata": {},
     "output_type": "execute_result"
    }
   ],
   "source": [
    "zip(lname, fname)"
   ]
  },
  {
   "cell_type": "code",
   "execution_count": 138,
   "id": "71b77fa5",
   "metadata": {},
   "outputs": [
    {
     "data": {
      "text/plain": [
       "{'Adaramola': 'Omolewa', 'Chu': 'Jossy', 'Ogunyemi': 'Lanre'}"
      ]
     },
     "execution_count": 138,
     "metadata": {},
     "output_type": "execute_result"
    }
   ],
   "source": [
    "dict(zip(lname, fname))"
   ]
  },
  {
   "cell_type": "code",
   "execution_count": 141,
   "id": "a42193b7",
   "metadata": {},
   "outputs": [],
   "source": [
    "# for loop"
   ]
  },
  {
   "cell_type": "code",
   "execution_count": 142,
   "id": "2b90de42",
   "metadata": {},
   "outputs": [],
   "source": [
    "num1 = [1, 2, 3, 4, 5, 6]\n",
    "num2 = [2, 4, 1, 10]"
   ]
  },
  {
   "cell_type": "code",
   "execution_count": 143,
   "id": "a8e48008",
   "metadata": {},
   "outputs": [],
   "source": [
    "output = []\n",
    "for i in num1:\n",
    "    for j in num2:\n",
    "        output.append(i * j)"
   ]
  },
  {
   "cell_type": "code",
   "execution_count": 145,
   "id": "ac42cc3c",
   "metadata": {},
   "outputs": [
    {
     "data": {
      "text/plain": [
       "[2,\n",
       " 4,\n",
       " 1,\n",
       " 10,\n",
       " 4,\n",
       " 8,\n",
       " 2,\n",
       " 20,\n",
       " 6,\n",
       " 12,\n",
       " 3,\n",
       " 30,\n",
       " 8,\n",
       " 16,\n",
       " 4,\n",
       " 40,\n",
       " 10,\n",
       " 20,\n",
       " 5,\n",
       " 50,\n",
       " 12,\n",
       " 24,\n",
       " 6,\n",
       " 60]"
      ]
     },
     "execution_count": 145,
     "metadata": {},
     "output_type": "execute_result"
    }
   ],
   "source": [
    "output"
   ]
  },
  {
   "cell_type": "code",
   "execution_count": 146,
   "id": "41b9b94f",
   "metadata": {},
   "outputs": [],
   "source": [
    "num1 = [1, 2, 3, 4, 5, 6]"
   ]
  },
  {
   "cell_type": "code",
   "execution_count": 147,
   "id": "c8ed1a32",
   "metadata": {},
   "outputs": [],
   "source": [
    "# output = [1, 4, 9, 16, 25, 36]"
   ]
  },
  {
   "cell_type": "code",
   "execution_count": 150,
   "id": "4590a3fe",
   "metadata": {},
   "outputs": [],
   "source": [
    "output = []\n",
    "for i in num1:\n",
    "    output.append(i ** 2) "
   ]
  },
  {
   "cell_type": "code",
   "execution_count": 151,
   "id": "e0de69e7",
   "metadata": {},
   "outputs": [
    {
     "data": {
      "text/plain": [
       "[1, 4, 9, 16, 25, 36]"
      ]
     },
     "execution_count": 151,
     "metadata": {},
     "output_type": "execute_result"
    }
   ],
   "source": [
    "output"
   ]
  },
  {
   "cell_type": "code",
   "execution_count": null,
   "id": "e705ac0f",
   "metadata": {},
   "outputs": [],
   "source": [
    "{1: 1, 2: 4, 3: 9}"
   ]
  },
  {
   "cell_type": "code",
   "execution_count": 152,
   "id": "877bfd17",
   "metadata": {},
   "outputs": [],
   "source": [
    "output = {}\n",
    "for i in num1:\n",
    "    output[i] = i ** 2"
   ]
  },
  {
   "cell_type": "code",
   "execution_count": 153,
   "id": "5a7e4366",
   "metadata": {},
   "outputs": [
    {
     "data": {
      "text/plain": [
       "{1: 1, 2: 4, 3: 9, 4: 16, 5: 25, 6: 36}"
      ]
     },
     "execution_count": 153,
     "metadata": {},
     "output_type": "execute_result"
    }
   ],
   "source": [
    "output"
   ]
  },
  {
   "cell_type": "code",
   "execution_count": null,
   "id": "663e519b",
   "metadata": {},
   "outputs": [],
   "source": [
    "num1 = [1, 2, 3, 4, 5, 6]\n",
    "# {1: 1, 2: 4, 3: 27}"
   ]
  },
  {
   "cell_type": "code",
   "execution_count": 155,
   "id": "db326d0e",
   "metadata": {},
   "outputs": [],
   "source": [
    "output = {}\n",
    "for i in num1:\n",
    "    if i % 2 == 0:\n",
    "        output[i] = i ** 2\n",
    "    else: \n",
    "        output[i] = i ** 3"
   ]
  },
  {
   "cell_type": "code",
   "execution_count": 156,
   "id": "020b019c",
   "metadata": {},
   "outputs": [
    {
     "data": {
      "text/plain": [
       "{1: 1, 2: 4, 3: 27, 4: 16, 5: 125, 6: 36}"
      ]
     },
     "execution_count": 156,
     "metadata": {},
     "output_type": "execute_result"
    }
   ],
   "source": [
    "output"
   ]
  },
  {
   "cell_type": "code",
   "execution_count": null,
   "id": "c38d9c14",
   "metadata": {},
   "outputs": [],
   "source": [
    "# list "
   ]
  }
 ],
 "metadata": {
  "kernelspec": {
   "display_name": "Python 3 (ipykernel)",
   "language": "python",
   "name": "python3"
  },
  "language_info": {
   "codemirror_mode": {
    "name": "ipython",
    "version": 3
   },
   "file_extension": ".py",
   "mimetype": "text/x-python",
   "name": "python",
   "nbconvert_exporter": "python",
   "pygments_lexer": "ipython3",
   "version": "3.9.7"
  }
 },
 "nbformat": 4,
 "nbformat_minor": 5
}
