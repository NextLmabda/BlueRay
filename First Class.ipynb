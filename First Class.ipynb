{
 "cells": [
  {
   "cell_type": "code",
   "execution_count": 1,
   "id": "666d2446",
   "metadata": {},
   "outputs": [],
   "source": [
    "name1 = 'Omolewa'"
   ]
  },
  {
   "cell_type": "code",
   "execution_count": 2,
   "id": "7b9d8a2b",
   "metadata": {},
   "outputs": [
    {
     "data": {
      "text/plain": [
       "'Omolewa'"
      ]
     },
     "execution_count": 2,
     "metadata": {},
     "output_type": "execute_result"
    }
   ],
   "source": [
    "name1"
   ]
  },
  {
   "cell_type": "code",
   "execution_count": 3,
   "id": "8f9196e4",
   "metadata": {},
   "outputs": [
    {
     "data": {
      "text/plain": [
       "str"
      ]
     },
     "execution_count": 3,
     "metadata": {},
     "output_type": "execute_result"
    }
   ],
   "source": [
    "type(name1)"
   ]
  },
  {
   "cell_type": "code",
   "execution_count": 4,
   "id": "50827aa6",
   "metadata": {},
   "outputs": [
    {
     "data": {
      "text/plain": [
       "'OmolewaOmolewaOmolewaOmolewaOmolewaOmolewaOmolewaOmolewaOmolewaOmolewa'"
      ]
     },
     "execution_count": 4,
     "metadata": {},
     "output_type": "execute_result"
    }
   ],
   "source": [
    "name1 * 10"
   ]
  },
  {
   "cell_type": "code",
   "execution_count": 5,
   "id": "25998703",
   "metadata": {},
   "outputs": [
    {
     "data": {
      "text/plain": [
       "'OMOLEWA'"
      ]
     },
     "execution_count": 5,
     "metadata": {},
     "output_type": "execute_result"
    }
   ],
   "source": [
    "name1.upper()"
   ]
  },
  {
   "cell_type": "code",
   "execution_count": 6,
   "id": "dd3f1b03",
   "metadata": {},
   "outputs": [
    {
     "data": {
      "text/plain": [
       "False"
      ]
     },
     "execution_count": 6,
     "metadata": {},
     "output_type": "execute_result"
    }
   ],
   "source": [
    "name1.isupper()"
   ]
  },
  {
   "cell_type": "code",
   "execution_count": 8,
   "id": "165142fc",
   "metadata": {},
   "outputs": [
    {
     "data": {
      "text/plain": [
       "'Bmolewa'"
      ]
     },
     "execution_count": 8,
     "metadata": {},
     "output_type": "execute_result"
    }
   ],
   "source": [
    "name1.replace('O', 'B')"
   ]
  },
  {
   "cell_type": "code",
   "execution_count": 9,
   "id": "96f7698c",
   "metadata": {},
   "outputs": [],
   "source": [
    "sent = 'I am a boy'"
   ]
  },
  {
   "cell_type": "code",
   "execution_count": 10,
   "id": "e18d54ef",
   "metadata": {},
   "outputs": [
    {
     "data": {
      "text/plain": [
       "['I', 'am', 'a', 'boy']"
      ]
     },
     "execution_count": 10,
     "metadata": {},
     "output_type": "execute_result"
    }
   ],
   "source": [
    "sent.split()"
   ]
  },
  {
   "cell_type": "code",
   "execution_count": 80,
   "id": "89b947a8",
   "metadata": {},
   "outputs": [
    {
     "data": {
      "text/plain": [
       "2"
      ]
     },
     "execution_count": 80,
     "metadata": {},
     "output_type": "execute_result"
    }
   ],
   "source": [
    "sent.count('a')"
   ]
  },
  {
   "cell_type": "code",
   "execution_count": 11,
   "id": "b8230c97",
   "metadata": {},
   "outputs": [],
   "source": [
    "date = '10-11-2022'"
   ]
  },
  {
   "cell_type": "code",
   "execution_count": 12,
   "id": "8562768a",
   "metadata": {},
   "outputs": [
    {
     "data": {
      "text/plain": [
       "['10', '11', '2022']"
      ]
     },
     "execution_count": 12,
     "metadata": {},
     "output_type": "execute_result"
    }
   ],
   "source": [
    "date.split('-')"
   ]
  },
  {
   "cell_type": "code",
   "execution_count": 13,
   "id": "23c08e05",
   "metadata": {},
   "outputs": [
    {
     "data": {
      "text/plain": [
       "['I ', 'm ', ' boy']"
      ]
     },
     "execution_count": 13,
     "metadata": {},
     "output_type": "execute_result"
    }
   ],
   "source": [
    "sent.split('a')"
   ]
  },
  {
   "cell_type": "code",
   "execution_count": 26,
   "id": "8fc8e655",
   "metadata": {},
   "outputs": [
    {
     "data": {
      "text/plain": [
       "10"
      ]
     },
     "execution_count": 26,
     "metadata": {},
     "output_type": "execute_result"
    }
   ],
   "source": [
    "len(sent)"
   ]
  },
  {
   "cell_type": "code",
   "execution_count": 14,
   "id": "01774235",
   "metadata": {},
   "outputs": [],
   "source": [
    "# Slicing"
   ]
  },
  {
   "cell_type": "code",
   "execution_count": 15,
   "id": "180c98ec",
   "metadata": {},
   "outputs": [],
   "source": [
    "name = 'ADARAMOLA'"
   ]
  },
  {
   "cell_type": "code",
   "execution_count": 16,
   "id": "da23cab1",
   "metadata": {},
   "outputs": [
    {
     "data": {
      "text/plain": [
       "'ARAMOLA'"
      ]
     },
     "execution_count": 16,
     "metadata": {},
     "output_type": "execute_result"
    }
   ],
   "source": [
    "name[2:9]"
   ]
  },
  {
   "cell_type": "code",
   "execution_count": 17,
   "id": "e9e6192c",
   "metadata": {},
   "outputs": [
    {
     "data": {
      "text/plain": [
       "'ADARAM'"
      ]
     },
     "execution_count": 17,
     "metadata": {},
     "output_type": "execute_result"
    }
   ],
   "source": [
    "name[:6]"
   ]
  },
  {
   "cell_type": "code",
   "execution_count": 18,
   "id": "64969b46",
   "metadata": {},
   "outputs": [
    {
     "data": {
      "text/plain": [
       "'AMA'"
      ]
     },
     "execution_count": 18,
     "metadata": {},
     "output_type": "execute_result"
    }
   ],
   "source": [
    "name[2::3]"
   ]
  },
  {
   "cell_type": "code",
   "execution_count": 19,
   "id": "85572da8",
   "metadata": {},
   "outputs": [
    {
     "data": {
      "text/plain": [
       "'ALOMARADA'"
      ]
     },
     "execution_count": 19,
     "metadata": {},
     "output_type": "execute_result"
    }
   ],
   "source": [
    "name[::-1]"
   ]
  },
  {
   "cell_type": "code",
   "execution_count": 20,
   "id": "f42999a7",
   "metadata": {},
   "outputs": [],
   "source": [
    "name = 'DAD'"
   ]
  },
  {
   "cell_type": "code",
   "execution_count": 25,
   "id": "a71f1479",
   "metadata": {},
   "outputs": [
    {
     "data": {
      "text/plain": [
       "3"
      ]
     },
     "execution_count": 25,
     "metadata": {},
     "output_type": "execute_result"
    }
   ],
   "source": [
    "len(name)"
   ]
  },
  {
   "cell_type": "code",
   "execution_count": 21,
   "id": "4d75012c",
   "metadata": {},
   "outputs": [
    {
     "data": {
      "text/plain": [
       "'DAD'"
      ]
     },
     "execution_count": 21,
     "metadata": {},
     "output_type": "execute_result"
    }
   ],
   "source": [
    "name[::-1]"
   ]
  },
  {
   "cell_type": "code",
   "execution_count": 22,
   "id": "2e734a0b",
   "metadata": {},
   "outputs": [
    {
     "data": {
      "text/plain": [
       "True"
      ]
     },
     "execution_count": 22,
     "metadata": {},
     "output_type": "execute_result"
    }
   ],
   "source": [
    "name == name[::-1]"
   ]
  },
  {
   "cell_type": "code",
   "execution_count": 23,
   "id": "182698db",
   "metadata": {},
   "outputs": [],
   "source": [
    "# list"
   ]
  },
  {
   "cell_type": "code",
   "execution_count": 24,
   "id": "8c3a88a3",
   "metadata": {},
   "outputs": [],
   "source": [
    "lis = []"
   ]
  },
  {
   "cell_type": "code",
   "execution_count": 27,
   "id": "0f6d8b21",
   "metadata": {},
   "outputs": [
    {
     "data": {
      "text/plain": [
       "0"
      ]
     },
     "execution_count": 27,
     "metadata": {},
     "output_type": "execute_result"
    }
   ],
   "source": [
    "len(lis)"
   ]
  },
  {
   "cell_type": "code",
   "execution_count": 28,
   "id": "ec454d04",
   "metadata": {},
   "outputs": [],
   "source": [
    "# popuplate"
   ]
  },
  {
   "cell_type": "code",
   "execution_count": 29,
   "id": "ed773494",
   "metadata": {},
   "outputs": [],
   "source": [
    "lis.append('Lanre')"
   ]
  },
  {
   "cell_type": "code",
   "execution_count": 30,
   "id": "4ef2f86b",
   "metadata": {},
   "outputs": [
    {
     "data": {
      "text/plain": [
       "['Lanre']"
      ]
     },
     "execution_count": 30,
     "metadata": {},
     "output_type": "execute_result"
    }
   ],
   "source": [
    "lis"
   ]
  },
  {
   "cell_type": "code",
   "execution_count": 31,
   "id": "c9067959",
   "metadata": {},
   "outputs": [],
   "source": [
    "lis.append('Jossy')"
   ]
  },
  {
   "cell_type": "code",
   "execution_count": 139,
   "id": "2fffc29f",
   "metadata": {},
   "outputs": [],
   "source": [
    "lis.append(2 * 3 * 4)"
   ]
  },
  {
   "cell_type": "code",
   "execution_count": 140,
   "id": "5f0875c1",
   "metadata": {},
   "outputs": [
    {
     "data": {
      "text/plain": [
       "['DAD', 24]"
      ]
     },
     "execution_count": 140,
     "metadata": {},
     "output_type": "execute_result"
    }
   ],
   "source": [
    "lis"
   ]
  },
  {
   "cell_type": "code",
   "execution_count": 32,
   "id": "6e4547bb",
   "metadata": {},
   "outputs": [
    {
     "data": {
      "text/plain": [
       "['Lanre', 'Jossy']"
      ]
     },
     "execution_count": 32,
     "metadata": {},
     "output_type": "execute_result"
    }
   ],
   "source": [
    "lis"
   ]
  },
  {
   "cell_type": "code",
   "execution_count": 33,
   "id": "0a0a9a1f",
   "metadata": {},
   "outputs": [],
   "source": [
    "lis.append(name)"
   ]
  },
  {
   "cell_type": "code",
   "execution_count": 34,
   "id": "b68887a1",
   "metadata": {},
   "outputs": [
    {
     "data": {
      "text/plain": [
       "['Lanre', 'Jossy', 'DAD']"
      ]
     },
     "execution_count": 34,
     "metadata": {},
     "output_type": "execute_result"
    }
   ],
   "source": [
    "lis"
   ]
  },
  {
   "cell_type": "code",
   "execution_count": 35,
   "id": "41c1e362",
   "metadata": {},
   "outputs": [
    {
     "data": {
      "text/plain": [
       "['Lanre', 'Jossy', 'DAD']"
      ]
     },
     "execution_count": 35,
     "metadata": {},
     "output_type": "execute_result"
    }
   ],
   "source": [
    "lis"
   ]
  },
  {
   "cell_type": "code",
   "execution_count": 36,
   "id": "66b0b312",
   "metadata": {},
   "outputs": [],
   "source": [
    "lis.reverse()"
   ]
  },
  {
   "cell_type": "code",
   "execution_count": 37,
   "id": "32bb2db3",
   "metadata": {},
   "outputs": [
    {
     "data": {
      "text/plain": [
       "['DAD', 'Jossy', 'Lanre']"
      ]
     },
     "execution_count": 37,
     "metadata": {},
     "output_type": "execute_result"
    }
   ],
   "source": [
    "lis"
   ]
  },
  {
   "cell_type": "code",
   "execution_count": 38,
   "id": "34244341",
   "metadata": {},
   "outputs": [
    {
     "data": {
      "text/plain": [
       "'Lanre'"
      ]
     },
     "execution_count": 38,
     "metadata": {},
     "output_type": "execute_result"
    }
   ],
   "source": [
    "lis.pop(2)"
   ]
  },
  {
   "cell_type": "code",
   "execution_count": 39,
   "id": "78310e82",
   "metadata": {},
   "outputs": [
    {
     "data": {
      "text/plain": [
       "['DAD', 'Jossy']"
      ]
     },
     "execution_count": 39,
     "metadata": {},
     "output_type": "execute_result"
    }
   ],
   "source": [
    "lis"
   ]
  },
  {
   "cell_type": "code",
   "execution_count": 40,
   "id": "5439d7f2",
   "metadata": {},
   "outputs": [],
   "source": [
    "lis.remove('Jossy')"
   ]
  },
  {
   "cell_type": "code",
   "execution_count": 41,
   "id": "265077a2",
   "metadata": {},
   "outputs": [
    {
     "data": {
      "text/plain": [
       "['DAD']"
      ]
     },
     "execution_count": 41,
     "metadata": {},
     "output_type": "execute_result"
    }
   ],
   "source": [
    "lis"
   ]
  },
  {
   "cell_type": "code",
   "execution_count": 42,
   "id": "51847c34",
   "metadata": {},
   "outputs": [
    {
     "ename": "ValueError",
     "evalue": "list.remove(x): x not in list",
     "output_type": "error",
     "traceback": [
      "\u001b[1;31m---------------------------------------------------------------------------\u001b[0m",
      "\u001b[1;31mValueError\u001b[0m                                Traceback (most recent call last)",
      "\u001b[1;32mC:\\Users\\OMOLEW~1\\AppData\\Local\\Temp/ipykernel_18332/489624070.py\u001b[0m in \u001b[0;36m<module>\u001b[1;34m\u001b[0m\n\u001b[1;32m----> 1\u001b[1;33m \u001b[0mlis\u001b[0m\u001b[1;33m.\u001b[0m\u001b[0mremove\u001b[0m\u001b[1;33m(\u001b[0m\u001b[1;34m'dad'\u001b[0m\u001b[1;33m)\u001b[0m\u001b[1;33m\u001b[0m\u001b[1;33m\u001b[0m\u001b[0m\n\u001b[0m",
      "\u001b[1;31mValueError\u001b[0m: list.remove(x): x not in list"
     ]
    }
   ],
   "source": [
    "lis.remove('dad')"
   ]
  },
  {
   "cell_type": "code",
   "execution_count": 43,
   "id": "72f311fa",
   "metadata": {},
   "outputs": [],
   "source": [
    "name = ['Omolewa', 'Bukola', 'Adaramola']"
   ]
  },
  {
   "cell_type": "code",
   "execution_count": 44,
   "id": "7d720248",
   "metadata": {},
   "outputs": [
    {
     "data": {
      "text/plain": [
       "'OmolewaBukolaAdaramola'"
      ]
     },
     "execution_count": 44,
     "metadata": {},
     "output_type": "execute_result"
    }
   ],
   "source": [
    "''.join(name)"
   ]
  },
  {
   "cell_type": "code",
   "execution_count": 45,
   "id": "0bcb2c75",
   "metadata": {},
   "outputs": [
    {
     "data": {
      "text/plain": [
       "'Omolewa Bukola Adaramola'"
      ]
     },
     "execution_count": 45,
     "metadata": {},
     "output_type": "execute_result"
    }
   ],
   "source": [
    "' '.join(name)"
   ]
  },
  {
   "cell_type": "code",
   "execution_count": 46,
   "id": "010b9969",
   "metadata": {},
   "outputs": [
    {
     "data": {
      "text/plain": [
       "'Omolewa-Bukola-Adaramola'"
      ]
     },
     "execution_count": 46,
     "metadata": {},
     "output_type": "execute_result"
    }
   ],
   "source": [
    "'-'.join(name)"
   ]
  },
  {
   "cell_type": "code",
   "execution_count": 47,
   "id": "e1f7e603",
   "metadata": {},
   "outputs": [
    {
     "data": {
      "text/plain": [
       "'Omolewa      Bukola      Adaramola'"
      ]
     },
     "execution_count": 47,
     "metadata": {},
     "output_type": "execute_result"
    }
   ],
   "source": [
    "'      '.join(name)"
   ]
  },
  {
   "cell_type": "code",
   "execution_count": 48,
   "id": "e50a5097",
   "metadata": {},
   "outputs": [
    {
     "data": {
      "text/plain": [
       "['Omolewa', 'Bukola', 'Adaramola']"
      ]
     },
     "execution_count": 48,
     "metadata": {},
     "output_type": "execute_result"
    }
   ],
   "source": [
    "name"
   ]
  },
  {
   "cell_type": "code",
   "execution_count": 49,
   "id": "58d3b644",
   "metadata": {},
   "outputs": [],
   "source": [
    "name.append('Jossy')"
   ]
  },
  {
   "cell_type": "code",
   "execution_count": 50,
   "id": "19a2f923",
   "metadata": {},
   "outputs": [],
   "source": [
    "name.append('Lanre')"
   ]
  },
  {
   "cell_type": "code",
   "execution_count": 51,
   "id": "e5c8c747",
   "metadata": {},
   "outputs": [],
   "source": [
    "name.append('Ray')"
   ]
  },
  {
   "cell_type": "code",
   "execution_count": 52,
   "id": "d17cc7a2",
   "metadata": {},
   "outputs": [],
   "source": [
    "name.append('George')"
   ]
  },
  {
   "cell_type": "code",
   "execution_count": null,
   "id": "f6745ae1",
   "metadata": {},
   "outputs": [],
   "source": []
  },
  {
   "cell_type": "code",
   "execution_count": 53,
   "id": "d1bd5859",
   "metadata": {},
   "outputs": [
    {
     "data": {
      "text/plain": [
       "['Omolewa', 'Bukola', 'Adaramola', 'Jossy', 'Lanre', 'Ray', 'George']"
      ]
     },
     "execution_count": 53,
     "metadata": {},
     "output_type": "execute_result"
    }
   ],
   "source": [
    "name"
   ]
  },
  {
   "cell_type": "code",
   "execution_count": 54,
   "id": "578a3293",
   "metadata": {},
   "outputs": [
    {
     "data": {
      "text/plain": [
       "'Omolewa'"
      ]
     },
     "execution_count": 54,
     "metadata": {},
     "output_type": "execute_result"
    }
   ],
   "source": [
    "name[0]"
   ]
  },
  {
   "cell_type": "code",
   "execution_count": 55,
   "id": "9a97bc87",
   "metadata": {},
   "outputs": [
    {
     "data": {
      "text/plain": [
       "'George'"
      ]
     },
     "execution_count": 55,
     "metadata": {},
     "output_type": "execute_result"
    }
   ],
   "source": [
    "name[-1]"
   ]
  },
  {
   "cell_type": "code",
   "execution_count": 56,
   "id": "cb21164a",
   "metadata": {},
   "outputs": [
    {
     "data": {
      "text/plain": [
       "['Adaramola', 'Jossy', 'Lanre']"
      ]
     },
     "execution_count": 56,
     "metadata": {},
     "output_type": "execute_result"
    }
   ],
   "source": [
    "name[2:5]"
   ]
  },
  {
   "cell_type": "code",
   "execution_count": 57,
   "id": "96f6567d",
   "metadata": {},
   "outputs": [],
   "source": [
    "name.insert(2, 'Ogechi')"
   ]
  },
  {
   "cell_type": "code",
   "execution_count": 58,
   "id": "f5999fbb",
   "metadata": {},
   "outputs": [
    {
     "data": {
      "text/plain": [
       "['Omolewa', 'Bukola', 'Ogechi', 'Adaramola', 'Jossy', 'Lanre', 'Ray', 'George']"
      ]
     },
     "execution_count": 58,
     "metadata": {},
     "output_type": "execute_result"
    }
   ],
   "source": [
    "name"
   ]
  },
  {
   "cell_type": "code",
   "execution_count": 59,
   "id": "8f578325",
   "metadata": {},
   "outputs": [
    {
     "data": {
      "text/plain": [
       "1"
      ]
     },
     "execution_count": 59,
     "metadata": {},
     "output_type": "execute_result"
    }
   ],
   "source": [
    "name.count('Bukola')"
   ]
  },
  {
   "cell_type": "code",
   "execution_count": 60,
   "id": "30ce5d06",
   "metadata": {},
   "outputs": [],
   "source": [
    "# append, insert, extend"
   ]
  },
  {
   "cell_type": "code",
   "execution_count": 61,
   "id": "71233307",
   "metadata": {},
   "outputs": [],
   "source": [
    "moreName = ['Felix', 'Jaiye']"
   ]
  },
  {
   "cell_type": "code",
   "execution_count": 62,
   "id": "0fe063c1",
   "metadata": {},
   "outputs": [
    {
     "data": {
      "text/plain": [
       "['Omolewa', 'Bukola', 'Ogechi', 'Adaramola', 'Jossy', 'Lanre', 'Ray', 'George']"
      ]
     },
     "execution_count": 62,
     "metadata": {},
     "output_type": "execute_result"
    }
   ],
   "source": [
    "name"
   ]
  },
  {
   "cell_type": "code",
   "execution_count": 63,
   "id": "4df08fb5",
   "metadata": {},
   "outputs": [
    {
     "data": {
      "text/plain": [
       "['Felix', 'Jaiye']"
      ]
     },
     "execution_count": 63,
     "metadata": {},
     "output_type": "execute_result"
    }
   ],
   "source": [
    "moreName"
   ]
  },
  {
   "cell_type": "code",
   "execution_count": 64,
   "id": "fce801e0",
   "metadata": {},
   "outputs": [],
   "source": [
    "name.append(moreName)"
   ]
  },
  {
   "cell_type": "code",
   "execution_count": 65,
   "id": "f7cc4825",
   "metadata": {},
   "outputs": [
    {
     "data": {
      "text/plain": [
       "['Omolewa',\n",
       " 'Bukola',\n",
       " 'Ogechi',\n",
       " 'Adaramola',\n",
       " 'Jossy',\n",
       " 'Lanre',\n",
       " 'Ray',\n",
       " 'George',\n",
       " ['Felix', 'Jaiye']]"
      ]
     },
     "execution_count": 65,
     "metadata": {},
     "output_type": "execute_result"
    }
   ],
   "source": [
    "name"
   ]
  },
  {
   "cell_type": "code",
   "execution_count": 66,
   "id": "8a843fdd",
   "metadata": {},
   "outputs": [],
   "source": [
    "name.remove('Omolewa')"
   ]
  },
  {
   "cell_type": "code",
   "execution_count": 68,
   "id": "f81e70fa",
   "metadata": {},
   "outputs": [],
   "source": [
    "name.remove('Bukola')"
   ]
  },
  {
   "cell_type": "code",
   "execution_count": 69,
   "id": "5adad3a0",
   "metadata": {},
   "outputs": [
    {
     "data": {
      "text/plain": [
       "['Ogechi', 'Adaramola', 'Jossy', 'Lanre', 'Ray', 'George', ['Felix', 'Jaiye']]"
      ]
     },
     "execution_count": 69,
     "metadata": {},
     "output_type": "execute_result"
    }
   ],
   "source": [
    "name"
   ]
  },
  {
   "cell_type": "code",
   "execution_count": 70,
   "id": "322b4684",
   "metadata": {},
   "outputs": [
    {
     "data": {
      "text/plain": [
       "['Felix', 'Jaiye']"
      ]
     },
     "execution_count": 70,
     "metadata": {},
     "output_type": "execute_result"
    }
   ],
   "source": [
    "name.pop(-1)"
   ]
  },
  {
   "cell_type": "code",
   "execution_count": 71,
   "id": "52245e6e",
   "metadata": {},
   "outputs": [
    {
     "data": {
      "text/plain": [
       "['Ogechi', 'Adaramola', 'Jossy', 'Lanre', 'Ray', 'George']"
      ]
     },
     "execution_count": 71,
     "metadata": {},
     "output_type": "execute_result"
    }
   ],
   "source": [
    "name"
   ]
  },
  {
   "cell_type": "code",
   "execution_count": 72,
   "id": "e84663e8",
   "metadata": {},
   "outputs": [
    {
     "data": {
      "text/plain": [
       "['Felix', 'Jaiye']"
      ]
     },
     "execution_count": 72,
     "metadata": {},
     "output_type": "execute_result"
    }
   ],
   "source": [
    "moreName"
   ]
  },
  {
   "cell_type": "code",
   "execution_count": 73,
   "id": "521c5961",
   "metadata": {},
   "outputs": [],
   "source": [
    "name.append(moreName)"
   ]
  },
  {
   "cell_type": "code",
   "execution_count": 74,
   "id": "53722418",
   "metadata": {},
   "outputs": [
    {
     "data": {
      "text/plain": [
       "['Ogechi', 'Adaramola', 'Jossy', 'Lanre', 'Ray', 'George', ['Felix', 'Jaiye']]"
      ]
     },
     "execution_count": 74,
     "metadata": {},
     "output_type": "execute_result"
    }
   ],
   "source": [
    "name"
   ]
  },
  {
   "cell_type": "code",
   "execution_count": 75,
   "id": "c0fd6f09",
   "metadata": {},
   "outputs": [
    {
     "data": {
      "text/plain": [
       "['Felix', 'Jaiye']"
      ]
     },
     "execution_count": 75,
     "metadata": {},
     "output_type": "execute_result"
    }
   ],
   "source": [
    "name.pop(6)"
   ]
  },
  {
   "cell_type": "code",
   "execution_count": 76,
   "id": "c42ce864",
   "metadata": {},
   "outputs": [
    {
     "data": {
      "text/plain": [
       "['Ogechi', 'Adaramola', 'Jossy', 'Lanre', 'Ray', 'George']"
      ]
     },
     "execution_count": 76,
     "metadata": {},
     "output_type": "execute_result"
    }
   ],
   "source": [
    "name"
   ]
  },
  {
   "cell_type": "code",
   "execution_count": 77,
   "id": "ecb765d0",
   "metadata": {},
   "outputs": [],
   "source": [
    "name.extend(moreName)"
   ]
  },
  {
   "cell_type": "code",
   "execution_count": 78,
   "id": "76ad7f26",
   "metadata": {},
   "outputs": [
    {
     "data": {
      "text/plain": [
       "['Ogechi', 'Adaramola', 'Jossy', 'Lanre', 'Ray', 'George', 'Felix', 'Jaiye']"
      ]
     },
     "execution_count": 78,
     "metadata": {},
     "output_type": "execute_result"
    }
   ],
   "source": [
    "name"
   ]
  },
  {
   "cell_type": "code",
   "execution_count": 81,
   "id": "a8a38e13",
   "metadata": {},
   "outputs": [],
   "source": [
    "# tuple"
   ]
  },
  {
   "cell_type": "code",
   "execution_count": 88,
   "id": "dd863bca",
   "metadata": {},
   "outputs": [],
   "source": [
    "name = ('Omolewa', 'Lanre')"
   ]
  },
  {
   "cell_type": "code",
   "execution_count": 89,
   "id": "0434b18f",
   "metadata": {},
   "outputs": [
    {
     "data": {
      "text/plain": [
       "['Omolewa', 'Lanre']"
      ]
     },
     "execution_count": 89,
     "metadata": {},
     "output_type": "execute_result"
    }
   ],
   "source": [
    "list(name)"
   ]
  },
  {
   "cell_type": "code",
   "execution_count": 90,
   "id": "8565c433",
   "metadata": {},
   "outputs": [
    {
     "data": {
      "text/plain": [
       "('Omolewa', 'Lanre')"
      ]
     },
     "execution_count": 90,
     "metadata": {},
     "output_type": "execute_result"
    }
   ],
   "source": [
    "name"
   ]
  },
  {
   "cell_type": "code",
   "execution_count": 91,
   "id": "3092a385",
   "metadata": {},
   "outputs": [
    {
     "ename": "AttributeError",
     "evalue": "'tuple' object has no attribute 'remove'",
     "output_type": "error",
     "traceback": [
      "\u001b[1;31m---------------------------------------------------------------------------\u001b[0m",
      "\u001b[1;31mAttributeError\u001b[0m                            Traceback (most recent call last)",
      "\u001b[1;32mC:\\Users\\OMOLEW~1\\AppData\\Local\\Temp/ipykernel_18332/2180205719.py\u001b[0m in \u001b[0;36m<module>\u001b[1;34m\u001b[0m\n\u001b[1;32m----> 1\u001b[1;33m \u001b[0mname\u001b[0m\u001b[1;33m.\u001b[0m\u001b[0mremove\u001b[0m\u001b[1;33m(\u001b[0m\u001b[1;33m)\u001b[0m\u001b[1;33m\u001b[0m\u001b[1;33m\u001b[0m\u001b[0m\n\u001b[0m",
      "\u001b[1;31mAttributeError\u001b[0m: 'tuple' object has no attribute 'remove'"
     ]
    }
   ],
   "source": [
    "name.remove()"
   ]
  },
  {
   "cell_type": "code",
   "execution_count": 96,
   "id": "382ec739",
   "metadata": {},
   "outputs": [],
   "source": [
    "lis2 = list(name)"
   ]
  },
  {
   "cell_type": "code",
   "execution_count": 98,
   "id": "da41900a",
   "metadata": {},
   "outputs": [],
   "source": [
    "lis2.remove('Lanre')"
   ]
  },
  {
   "cell_type": "code",
   "execution_count": 99,
   "id": "8805c7fb",
   "metadata": {},
   "outputs": [
    {
     "data": {
      "text/plain": [
       "['Omolewa']"
      ]
     },
     "execution_count": 99,
     "metadata": {},
     "output_type": "execute_result"
    }
   ],
   "source": [
    "lis2"
   ]
  },
  {
   "cell_type": "code",
   "execution_count": 100,
   "id": "5794f9cb",
   "metadata": {},
   "outputs": [],
   "source": [
    "name = tuple(lis2)"
   ]
  },
  {
   "cell_type": "code",
   "execution_count": 101,
   "id": "2e149a67",
   "metadata": {},
   "outputs": [
    {
     "data": {
      "text/plain": [
       "('Omolewa',)"
      ]
     },
     "execution_count": 101,
     "metadata": {},
     "output_type": "execute_result"
    }
   ],
   "source": [
    "name"
   ]
  },
  {
   "cell_type": "code",
   "execution_count": 102,
   "id": "9ad5a582",
   "metadata": {},
   "outputs": [],
   "source": [
    "# Dictionary"
   ]
  },
  {
   "cell_type": "code",
   "execution_count": 103,
   "id": "edaf137c",
   "metadata": {},
   "outputs": [],
   "source": [
    "dic = {}"
   ]
  },
  {
   "cell_type": "code",
   "execution_count": 104,
   "id": "6f3c088e",
   "metadata": {},
   "outputs": [
    {
     "data": {
      "text/plain": [
       "dict"
      ]
     },
     "execution_count": 104,
     "metadata": {},
     "output_type": "execute_result"
    }
   ],
   "source": [
    "type(dic)"
   ]
  },
  {
   "cell_type": "code",
   "execution_count": 105,
   "id": "fd8b38b6",
   "metadata": {},
   "outputs": [
    {
     "data": {
      "text/plain": [
       "{}"
      ]
     },
     "execution_count": 105,
     "metadata": {},
     "output_type": "execute_result"
    }
   ],
   "source": [
    "dic"
   ]
  },
  {
   "cell_type": "code",
   "execution_count": 106,
   "id": "c3830fc9",
   "metadata": {},
   "outputs": [],
   "source": [
    "dic['Nigeria'] = 'Abuja'"
   ]
  },
  {
   "cell_type": "code",
   "execution_count": 107,
   "id": "d78d6b46",
   "metadata": {},
   "outputs": [
    {
     "data": {
      "text/plain": [
       "{'Nigeria': 'Abuja'}"
      ]
     },
     "execution_count": 107,
     "metadata": {},
     "output_type": "execute_result"
    }
   ],
   "source": [
    "dic"
   ]
  },
  {
   "cell_type": "code",
   "execution_count": 108,
   "id": "581bfae1",
   "metadata": {},
   "outputs": [],
   "source": [
    "dic['USA'] = 'DC'"
   ]
  },
  {
   "cell_type": "code",
   "execution_count": 109,
   "id": "f7fdd805",
   "metadata": {},
   "outputs": [
    {
     "data": {
      "text/plain": [
       "{'Nigeria': 'Abuja', 'USA': 'DC'}"
      ]
     },
     "execution_count": 109,
     "metadata": {},
     "output_type": "execute_result"
    }
   ],
   "source": [
    "dic"
   ]
  },
  {
   "cell_type": "code",
   "execution_count": 110,
   "id": "ac6cea7b",
   "metadata": {},
   "outputs": [],
   "source": [
    "dic['Cameroun'] = 'Yaounde'"
   ]
  },
  {
   "cell_type": "code",
   "execution_count": 111,
   "id": "8024b54c",
   "metadata": {},
   "outputs": [
    {
     "data": {
      "text/plain": [
       "{'Nigeria': 'Abuja', 'USA': 'DC', 'Cameroun': 'Yaounde'}"
      ]
     },
     "execution_count": 111,
     "metadata": {},
     "output_type": "execute_result"
    }
   ],
   "source": [
    "dic"
   ]
  },
  {
   "cell_type": "code",
   "execution_count": 112,
   "id": "7738d45d",
   "metadata": {},
   "outputs": [
    {
     "data": {
      "text/plain": [
       "{'Nigeria': 'Abuja', 'USA': 'DC', 'Cameroun': 'Yaounde'}"
      ]
     },
     "execution_count": 112,
     "metadata": {},
     "output_type": "execute_result"
    }
   ],
   "source": [
    "dic"
   ]
  },
  {
   "cell_type": "code",
   "execution_count": 113,
   "id": "a097f36d",
   "metadata": {},
   "outputs": [
    {
     "data": {
      "text/plain": [
       "dict_keys(['Nigeria', 'USA', 'Cameroun'])"
      ]
     },
     "execution_count": 113,
     "metadata": {},
     "output_type": "execute_result"
    }
   ],
   "source": [
    "dic.keys()"
   ]
  },
  {
   "cell_type": "code",
   "execution_count": 114,
   "id": "5ca46988",
   "metadata": {},
   "outputs": [
    {
     "data": {
      "text/plain": [
       "dict_values(['Abuja', 'DC', 'Yaounde'])"
      ]
     },
     "execution_count": 114,
     "metadata": {},
     "output_type": "execute_result"
    }
   ],
   "source": [
    "dic.values()"
   ]
  },
  {
   "cell_type": "code",
   "execution_count": 115,
   "id": "a0cc4fc8",
   "metadata": {},
   "outputs": [
    {
     "data": {
      "text/plain": [
       "['Abuja', 'DC', 'Yaounde']"
      ]
     },
     "execution_count": 115,
     "metadata": {},
     "output_type": "execute_result"
    }
   ],
   "source": [
    "list(dic.values())"
   ]
  },
  {
   "cell_type": "code",
   "execution_count": 116,
   "id": "615e719d",
   "metadata": {},
   "outputs": [
    {
     "data": {
      "text/plain": [
       "{'Nigeria': 'Abuja', 'USA': 'DC', 'Cameroun': 'Yaounde'}"
      ]
     },
     "execution_count": 116,
     "metadata": {},
     "output_type": "execute_result"
    }
   ],
   "source": [
    "dic"
   ]
  },
  {
   "cell_type": "code",
   "execution_count": 117,
   "id": "27564572",
   "metadata": {},
   "outputs": [
    {
     "data": {
      "text/plain": [
       "'Abuja'"
      ]
     },
     "execution_count": 117,
     "metadata": {},
     "output_type": "execute_result"
    }
   ],
   "source": [
    "dic.get('Nigeria')"
   ]
  },
  {
   "cell_type": "code",
   "execution_count": 118,
   "id": "b280baec",
   "metadata": {},
   "outputs": [
    {
     "data": {
      "text/plain": [
       "'Yaounde'"
      ]
     },
     "execution_count": 118,
     "metadata": {},
     "output_type": "execute_result"
    }
   ],
   "source": [
    "dic.get('Cameroun')"
   ]
  },
  {
   "cell_type": "code",
   "execution_count": 119,
   "id": "0874fa33",
   "metadata": {},
   "outputs": [],
   "source": [
    "dic.get('Ghana')"
   ]
  },
  {
   "cell_type": "code",
   "execution_count": 120,
   "id": "0e0e7f46",
   "metadata": {},
   "outputs": [
    {
     "data": {
      "text/plain": [
       "'Yaounde'"
      ]
     },
     "execution_count": 120,
     "metadata": {},
     "output_type": "execute_result"
    }
   ],
   "source": [
    "dic.get('Cameroun')"
   ]
  },
  {
   "cell_type": "code",
   "execution_count": 121,
   "id": "00080052",
   "metadata": {},
   "outputs": [
    {
     "data": {
      "text/plain": [
       "'Yaounde'"
      ]
     },
     "execution_count": 121,
     "metadata": {},
     "output_type": "execute_result"
    }
   ],
   "source": [
    "dic['Cameroun']"
   ]
  },
  {
   "cell_type": "code",
   "execution_count": 122,
   "id": "e63eccc5",
   "metadata": {},
   "outputs": [
    {
     "ename": "KeyError",
     "evalue": "'Ghana'",
     "output_type": "error",
     "traceback": [
      "\u001b[1;31m---------------------------------------------------------------------------\u001b[0m",
      "\u001b[1;31mKeyError\u001b[0m                                  Traceback (most recent call last)",
      "\u001b[1;32mC:\\Users\\OMOLEW~1\\AppData\\Local\\Temp/ipykernel_18332/2442933273.py\u001b[0m in \u001b[0;36m<module>\u001b[1;34m\u001b[0m\n\u001b[1;32m----> 1\u001b[1;33m \u001b[0mdic\u001b[0m\u001b[1;33m[\u001b[0m\u001b[1;34m'Ghana'\u001b[0m\u001b[1;33m]\u001b[0m\u001b[1;33m\u001b[0m\u001b[1;33m\u001b[0m\u001b[0m\n\u001b[0m",
      "\u001b[1;31mKeyError\u001b[0m: 'Ghana'"
     ]
    }
   ],
   "source": [
    "dic['Ghana']"
   ]
  },
  {
   "cell_type": "code",
   "execution_count": 123,
   "id": "ad5fc2ce",
   "metadata": {},
   "outputs": [],
   "source": [
    "dic.get('Ghana')"
   ]
  },
  {
   "cell_type": "code",
   "execution_count": 124,
   "id": "4dc3f3b3",
   "metadata": {},
   "outputs": [
    {
     "data": {
      "text/plain": [
       "'Nothig is found'"
      ]
     },
     "execution_count": 124,
     "metadata": {},
     "output_type": "execute_result"
    }
   ],
   "source": [
    "dic.get('Ghana', 'Nothig is found')"
   ]
  },
  {
   "cell_type": "code",
   "execution_count": 126,
   "id": "2d8730f9",
   "metadata": {},
   "outputs": [
    {
     "data": {
      "text/plain": [
       "'Abuja'"
      ]
     },
     "execution_count": 126,
     "metadata": {},
     "output_type": "execute_result"
    }
   ],
   "source": [
    "dic.get('Nigeria', 'Jump Jump')"
   ]
  },
  {
   "cell_type": "code",
   "execution_count": 127,
   "id": "9840f6f4",
   "metadata": {},
   "outputs": [],
   "source": [
    "dic['Nigeria'] = 'Lagos'"
   ]
  },
  {
   "cell_type": "code",
   "execution_count": 128,
   "id": "116e8457",
   "metadata": {},
   "outputs": [
    {
     "data": {
      "text/plain": [
       "{'Nigeria': 'Lagos', 'USA': 'DC', 'Cameroun': 'Yaounde'}"
      ]
     },
     "execution_count": 128,
     "metadata": {},
     "output_type": "execute_result"
    }
   ],
   "source": [
    "dic"
   ]
  },
  {
   "cell_type": "code",
   "execution_count": 129,
   "id": "30967ec6",
   "metadata": {},
   "outputs": [],
   "source": [
    "dic['Ghana'] = 'Accra'"
   ]
  },
  {
   "cell_type": "code",
   "execution_count": 130,
   "id": "e7667ce8",
   "metadata": {},
   "outputs": [
    {
     "data": {
      "text/plain": [
       "{'Nigeria': 'Lagos', 'USA': 'DC', 'Cameroun': 'Yaounde', 'Ghana': 'Accra'}"
      ]
     },
     "execution_count": 130,
     "metadata": {},
     "output_type": "execute_result"
    }
   ],
   "source": [
    "dic"
   ]
  },
  {
   "cell_type": "code",
   "execution_count": 131,
   "id": "7b1e25a5",
   "metadata": {},
   "outputs": [],
   "source": [
    "dic['Ghana'] = 'Damascus'"
   ]
  },
  {
   "cell_type": "code",
   "execution_count": 132,
   "id": "2cda7206",
   "metadata": {},
   "outputs": [
    {
     "data": {
      "text/plain": [
       "{'Nigeria': 'Lagos', 'USA': 'DC', 'Cameroun': 'Yaounde', 'Ghana': 'Damascus'}"
      ]
     },
     "execution_count": 132,
     "metadata": {},
     "output_type": "execute_result"
    }
   ],
   "source": [
    "dic"
   ]
  },
  {
   "cell_type": "code",
   "execution_count": 133,
   "id": "09ea81e6",
   "metadata": {},
   "outputs": [],
   "source": [
    "dic['nigeria'] = 'Ife'"
   ]
  },
  {
   "cell_type": "code",
   "execution_count": 134,
   "id": "475202d3",
   "metadata": {},
   "outputs": [
    {
     "data": {
      "text/plain": [
       "{'Nigeria': 'Lagos',\n",
       " 'USA': 'DC',\n",
       " 'Cameroun': 'Yaounde',\n",
       " 'Ghana': 'Damascus',\n",
       " 'nigeria': 'Ife'}"
      ]
     },
     "execution_count": 134,
     "metadata": {},
     "output_type": "execute_result"
    }
   ],
   "source": [
    "dic"
   ]
  },
  {
   "cell_type": "code",
   "execution_count": 135,
   "id": "7085ec67",
   "metadata": {},
   "outputs": [],
   "source": [
    "fname = ['Omolewa', 'Jossy', 'Lanre']\n",
    "lname = ['Adaramola', 'Chu', 'Ogunyemi']"
   ]
  },
  {
   "cell_type": "code",
   "execution_count": 136,
   "id": "f770d616",
   "metadata": {},
   "outputs": [],
   "source": [
    "# {'Adaramola': 'Omolewa'}"
   ]
  },
  {
   "cell_type": "code",
   "execution_count": 137,
   "id": "2ac8b4a2",
   "metadata": {},
   "outputs": [
    {
     "data": {
      "text/plain": [
       "<zip at 0x20b83e80780>"
      ]
     },
     "execution_count": 137,
     "metadata": {},
     "output_type": "execute_result"
    }
   ],
   "source": [
    "zip(lname, fname)"
   ]
  },
  {
   "cell_type": "code",
   "execution_count": 138,
   "id": "3cbd9464",
   "metadata": {},
   "outputs": [
    {
     "data": {
      "text/plain": [
       "{'Adaramola': 'Omolewa', 'Chu': 'Jossy', 'Ogunyemi': 'Lanre'}"
      ]
     },
     "execution_count": 138,
     "metadata": {},
     "output_type": "execute_result"
    }
   ],
   "source": [
    "dict(zip(lname, fname))"
   ]
  },
  {
   "cell_type": "code",
   "execution_count": 141,
   "id": "97dfcca7",
   "metadata": {},
   "outputs": [],
   "source": [
    "# for loop"
   ]
  },
  {
   "cell_type": "code",
   "execution_count": 142,
   "id": "f848202a",
   "metadata": {},
   "outputs": [],
   "source": [
    "num1 = [1, 2, 3, 4, 5, 6]\n",
    "num2 = [2, 4, 1, 10]"
   ]
  },
  {
   "cell_type": "code",
   "execution_count": 143,
   "id": "1649afc1",
   "metadata": {},
   "outputs": [],
   "source": [
    "output = []\n",
    "for i in num1:\n",
    "    for j in num2:\n",
    "        output.append(i * j)"
   ]
  },
  {
   "cell_type": "code",
   "execution_count": 145,
   "id": "a0556f7e",
   "metadata": {},
   "outputs": [
    {
     "data": {
      "text/plain": [
       "[2,\n",
       " 4,\n",
       " 1,\n",
       " 10,\n",
       " 4,\n",
       " 8,\n",
       " 2,\n",
       " 20,\n",
       " 6,\n",
       " 12,\n",
       " 3,\n",
       " 30,\n",
       " 8,\n",
       " 16,\n",
       " 4,\n",
       " 40,\n",
       " 10,\n",
       " 20,\n",
       " 5,\n",
       " 50,\n",
       " 12,\n",
       " 24,\n",
       " 6,\n",
       " 60]"
      ]
     },
     "execution_count": 145,
     "metadata": {},
     "output_type": "execute_result"
    }
   ],
   "source": [
    "output"
   ]
  },
  {
   "cell_type": "code",
   "execution_count": 146,
   "id": "a3dc9be6",
   "metadata": {},
   "outputs": [],
   "source": [
    "num1 = [1, 2, 3, 4, 5, 6]"
   ]
  },
  {
   "cell_type": "code",
   "execution_count": 147,
   "id": "f80339f7",
   "metadata": {},
   "outputs": [],
   "source": [
    "# output = [1, 4, 9, 16, 25, 36]"
   ]
  },
  {
   "cell_type": "code",
   "execution_count": 150,
   "id": "08d3a0ab",
   "metadata": {},
   "outputs": [],
   "source": [
    "output = []\n",
    "for i in num1:\n",
    "    output.append(i ** 2) "
   ]
  },
  {
   "cell_type": "code",
   "execution_count": 151,
   "id": "3ead84db",
   "metadata": {},
   "outputs": [
    {
     "data": {
      "text/plain": [
       "[1, 4, 9, 16, 25, 36]"
      ]
     },
     "execution_count": 151,
     "metadata": {},
     "output_type": "execute_result"
    }
   ],
   "source": [
    "output"
   ]
  },
  {
   "cell_type": "code",
   "execution_count": null,
   "id": "bbf69d52",
   "metadata": {},
   "outputs": [],
   "source": [
    "{1: 1, 2: 4, 3: 9}"
   ]
  },
  {
   "cell_type": "code",
   "execution_count": 152,
   "id": "397f30fe",
   "metadata": {},
   "outputs": [],
   "source": [
    "output = {}\n",
    "for i in num1:\n",
    "    output[i] = i ** 2"
   ]
  },
  {
   "cell_type": "code",
   "execution_count": 153,
   "id": "787e4831",
   "metadata": {},
   "outputs": [
    {
     "data": {
      "text/plain": [
       "{1: 1, 2: 4, 3: 9, 4: 16, 5: 25, 6: 36}"
      ]
     },
     "execution_count": 153,
     "metadata": {},
     "output_type": "execute_result"
    }
   ],
   "source": [
    "output"
   ]
  },
  {
   "cell_type": "code",
   "execution_count": null,
   "id": "aa6ffa75",
   "metadata": {},
   "outputs": [],
   "source": [
    "num1 = [1, 2, 3, 4, 5, 6]\n",
    "# {1: 1, 2: 4, 3: 27}"
   ]
  },
  {
   "cell_type": "code",
   "execution_count": 155,
   "id": "f1c25437",
   "metadata": {},
   "outputs": [],
   "source": [
    "output = {}\n",
    "for i in num1:\n",
    "    if i % 2 == 0:\n",
    "        output[i] = i ** 2\n",
    "    else: \n",
    "        output[i] = i ** 3"
   ]
  },
  {
   "cell_type": "code",
   "execution_count": 156,
   "id": "0b764020",
   "metadata": {},
   "outputs": [
    {
     "data": {
      "text/plain": [
       "{1: 1, 2: 4, 3: 27, 4: 16, 5: 125, 6: 36}"
      ]
     },
     "execution_count": 156,
     "metadata": {},
     "output_type": "execute_result"
    }
   ],
   "source": [
    "output"
   ]
  },
  {
   "cell_type": "code",
   "execution_count": null,
   "id": "6a8d15f8",
   "metadata": {},
   "outputs": [],
   "source": [
    "# list comrehension, dictionary comprehension, tuple comrehension (generator)"
   ]
  }
 ],
 "metadata": {
  "kernelspec": {
   "display_name": "Python 3 (ipykernel)",
   "language": "python",
   "name": "python3"
  },
  "language_info": {
   "codemirror_mode": {
    "name": "ipython",
    "version": 3
   },
   "file_extension": ".py",
   "mimetype": "text/x-python",
   "name": "python",
   "nbconvert_exporter": "python",
   "pygments_lexer": "ipython3",
   "version": "3.9.7"
  }
 },
 "nbformat": 4,
 "nbformat_minor": 5
}
